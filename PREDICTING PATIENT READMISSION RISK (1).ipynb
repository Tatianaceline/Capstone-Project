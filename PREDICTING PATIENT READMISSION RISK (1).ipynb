{
 "cells": [
  {
   "cell_type": "markdown",
   "metadata": {},
   "source": [
    "### PHASE 5 CAPSTONE PROJECT\n",
    "### Group 6\n",
    "1. **Tatiana Celine**\n",
    "2. **Kamal Ali**\n",
    "3. **William Muthama**\n",
    "4. **Gilead Gad**\n",
    "5. **Simon Muema**\n",
    "6. **Graffin Kiprotich**\n",
    "\n",
    "GitHub Repository: https://github.com/Tatianaceline/Predictive-Model-for-Patient-Readmission-Risk"
   ]
  },
  {
   "cell_type": "markdown",
   "metadata": {},
   "source": [
    "# PREDICTING PATIENT READMISSION RISK"
   ]
  },
  {
   "cell_type": "markdown",
   "metadata": {
    "id": "i5FtsgvPkPJk"
   },
   "source": [
    "This project aims to develop a model that can predict patient readmission risk based on patient data. Accurately identifying high-risk patients can help medical providers improve patient care and reduce costs associated with frequent readmissions.\n",
    "\n",
    "## Project Outline\n",
    "1. **Business Understanding**\n",
    "2. **Data Understanding**\n",
    "3. **Data Import and Library Setup**\n",
    "4. **Data Cleaning**\n",
    "5. **Exploratory Data Analysis (EDA)**\n",
    "6. **Further Data Cleaning Based on EDA**\n",
    "7. **Modelling and Evaluation**\n",
    "8. **Predictive Modelling and Evaluation**\n",
    "9. **Conclusion**"
   ]
  },
  {
   "cell_type": "markdown",
   "metadata": {
    "id": "tm9Kh4-GkPJn"
   },
   "source": [
    "## 1. Business Understanding\n",
    "Hospital readmission rates are a significant concern in healthcare management due to their impact on both patient well-being and hospital costs. Our goal is to identify key factors influencing readmission risk and build a predictive model that flags high-risk patients.\n",
    "\n",
    "**Key Questions:**\n",
    "- Which patient characteristics correlate with a higher readmission risk?\n",
    "- How does the length of hospital stay impact readmission likelihood?\n",
    "- Can we develop an actionable model to predict readmissions?\n",
    "\n",
    "The dataset includes patient demographics, hospital visits, and medical metrics, allowing us to explore patterns associated with readmissions."
   ]
  },
  {
   "cell_type": "markdown",
   "metadata": {
    "id": "IzUbIe4ikPJo"
   },
   "source": [
    "## 2. Data Understanding\n",
    "The data used in this project contains patient information including demographics, hospital metrics, and readmission indicators. We will focus on the following columns:\n",
    "\n",
    "- **patient_nbr**: Unique patient identifier.\n",
    "- **gender**: Patient gender.\n",
    "- **age**: Age group of the patient.\n",
    "- **weight**: Patient weight (if recorded).\n",
    "- **time_in_hospital**: Length of stay in days.\n",
    "- **medical_specialty**: Primary care specialty.\n",
    "- **num_lab_procedures**: Number of lab tests performed during the hospital stay.\n",
    "- **num_procedures**: Number of procedures during the stay.\n",
    "- **num_medications**: Number of medications administered.\n",
    "- **number_outpatient**: Outpatient visits.\n",
    "- **number_emergency**: Emergency visits.\n",
    "- **number_inpatient**: Previous inpatient visits.\n",
    "- **number_diagnoses**: Number of diagnoses.\n",
    "- **diabetesMed**: Whether diabetes medication was prescribed.\n",
    "- **readmitted**: Indicator if the patient was readmitted (target variable)."
   ]
  },
  {
   "cell_type": "markdown",
   "metadata": {
    "id": "pw7_kwAWkPJp"
   },
   "source": [
    "## 3. Importing necessary libraries"
   ]
  },
  {
   "cell_type": "code",
   "execution_count": 1,
   "metadata": {
    "id": "rj_9RBHAkPJq"
   },
   "outputs": [
    {
     "name": "stderr",
     "output_type": "stream",
     "text": [
      "<frozen importlib._bootstrap>:219: RuntimeWarning: scipy._lib.messagestream.MessageStream size changed, may indicate binary incompatibility. Expected 56 from C header, got 64 from PyObject\n"
     ]
    }
   ],
   "source": [
    "# Importing necessary libraries\n",
    "import pandas as pd\n",
    "import numpy as np\n",
    "import seaborn as sns\n",
    "import matplotlib.pyplot as plt\n",
    "from sklearn.model_selection import train_test_split\n",
    "from sklearn.cluster import KMeans\n",
    "from sklearn.preprocessing import StandardScaler\n",
    "from sklearn.linear_model import LogisticRegression\n",
    "from sklearn.ensemble import RandomForestClassifier\n",
    "from sklearn.preprocessing import OneHotEncoder\n",
    "from sklearn.metrics import accuracy_score, roc_auc_score\n",
    "from sklearn.neural_network import MLPClassifier"
   ]
  },
  {
   "cell_type": "code",
   "execution_count": 2,
   "metadata": {
    "colab": {
     "base_uri": "https://localhost:8080/",
     "height": 330
    },
    "id": "TEdpJj-rkPJq",
    "outputId": "455e298d-0c12-4002-abfc-f5099c785701"
   },
   "outputs": [
    {
     "data": {
      "text/html": [
       "<div>\n",
       "<style scoped>\n",
       "    .dataframe tbody tr th:only-of-type {\n",
       "        vertical-align: middle;\n",
       "    }\n",
       "\n",
       "    .dataframe tbody tr th {\n",
       "        vertical-align: top;\n",
       "    }\n",
       "\n",
       "    .dataframe thead th {\n",
       "        text-align: right;\n",
       "    }\n",
       "</style>\n",
       "<table border=\"1\" class=\"dataframe\">\n",
       "  <thead>\n",
       "    <tr style=\"text-align: right;\">\n",
       "      <th></th>\n",
       "      <th>encounter_id</th>\n",
       "      <th>patient_nbr</th>\n",
       "      <th>race</th>\n",
       "      <th>gender</th>\n",
       "      <th>age</th>\n",
       "      <th>weight</th>\n",
       "      <th>admission_type_id</th>\n",
       "      <th>discharge_disposition_id</th>\n",
       "      <th>admission_source_id</th>\n",
       "      <th>time_in_hospital</th>\n",
       "      <th>...</th>\n",
       "      <th>citoglipton</th>\n",
       "      <th>insulin</th>\n",
       "      <th>glyburide-metformin</th>\n",
       "      <th>glipizide-metformin</th>\n",
       "      <th>glimepiride-pioglitazone</th>\n",
       "      <th>metformin-rosiglitazone</th>\n",
       "      <th>metformin-pioglitazone</th>\n",
       "      <th>change</th>\n",
       "      <th>diabetesMed</th>\n",
       "      <th>readmitted</th>\n",
       "    </tr>\n",
       "  </thead>\n",
       "  <tbody>\n",
       "    <tr>\n",
       "      <th>0</th>\n",
       "      <td>2278392</td>\n",
       "      <td>8222157</td>\n",
       "      <td>Caucasian</td>\n",
       "      <td>Female</td>\n",
       "      <td>[0-10)</td>\n",
       "      <td>?</td>\n",
       "      <td>6</td>\n",
       "      <td>25</td>\n",
       "      <td>1</td>\n",
       "      <td>1</td>\n",
       "      <td>...</td>\n",
       "      <td>No</td>\n",
       "      <td>No</td>\n",
       "      <td>No</td>\n",
       "      <td>No</td>\n",
       "      <td>No</td>\n",
       "      <td>No</td>\n",
       "      <td>No</td>\n",
       "      <td>No</td>\n",
       "      <td>No</td>\n",
       "      <td>NO</td>\n",
       "    </tr>\n",
       "    <tr>\n",
       "      <th>1</th>\n",
       "      <td>149190</td>\n",
       "      <td>55629189</td>\n",
       "      <td>Caucasian</td>\n",
       "      <td>Female</td>\n",
       "      <td>[10-20)</td>\n",
       "      <td>?</td>\n",
       "      <td>1</td>\n",
       "      <td>1</td>\n",
       "      <td>7</td>\n",
       "      <td>3</td>\n",
       "      <td>...</td>\n",
       "      <td>No</td>\n",
       "      <td>Up</td>\n",
       "      <td>No</td>\n",
       "      <td>No</td>\n",
       "      <td>No</td>\n",
       "      <td>No</td>\n",
       "      <td>No</td>\n",
       "      <td>Ch</td>\n",
       "      <td>Yes</td>\n",
       "      <td>&gt;30</td>\n",
       "    </tr>\n",
       "    <tr>\n",
       "      <th>2</th>\n",
       "      <td>64410</td>\n",
       "      <td>86047875</td>\n",
       "      <td>AfricanAmerican</td>\n",
       "      <td>Female</td>\n",
       "      <td>[20-30)</td>\n",
       "      <td>?</td>\n",
       "      <td>1</td>\n",
       "      <td>1</td>\n",
       "      <td>7</td>\n",
       "      <td>2</td>\n",
       "      <td>...</td>\n",
       "      <td>No</td>\n",
       "      <td>No</td>\n",
       "      <td>No</td>\n",
       "      <td>No</td>\n",
       "      <td>No</td>\n",
       "      <td>No</td>\n",
       "      <td>No</td>\n",
       "      <td>No</td>\n",
       "      <td>Yes</td>\n",
       "      <td>NO</td>\n",
       "    </tr>\n",
       "    <tr>\n",
       "      <th>3</th>\n",
       "      <td>429727004</td>\n",
       "      <td>161137462</td>\n",
       "      <td>Other</td>\n",
       "      <td>Female</td>\n",
       "      <td>[70-80)</td>\n",
       "      <td>[125-150)</td>\n",
       "      <td>5</td>\n",
       "      <td>10</td>\n",
       "      <td>25</td>\n",
       "      <td>5</td>\n",
       "      <td>...</td>\n",
       "      <td>No</td>\n",
       "      <td>No</td>\n",
       "      <td>No</td>\n",
       "      <td>Steady</td>\n",
       "      <td>Steady</td>\n",
       "      <td>Steady</td>\n",
       "      <td>No</td>\n",
       "      <td>Ch</td>\n",
       "      <td>No</td>\n",
       "      <td>&gt;30</td>\n",
       "    </tr>\n",
       "    <tr>\n",
       "      <th>4</th>\n",
       "      <td>24882254</td>\n",
       "      <td>178987224</td>\n",
       "      <td>Other</td>\n",
       "      <td>Male</td>\n",
       "      <td>[60-70)</td>\n",
       "      <td>[50-75)</td>\n",
       "      <td>2</td>\n",
       "      <td>25</td>\n",
       "      <td>18</td>\n",
       "      <td>12</td>\n",
       "      <td>...</td>\n",
       "      <td>No</td>\n",
       "      <td>Steady</td>\n",
       "      <td>Up</td>\n",
       "      <td>No</td>\n",
       "      <td>No</td>\n",
       "      <td>No</td>\n",
       "      <td>Steady</td>\n",
       "      <td>No</td>\n",
       "      <td>Yes</td>\n",
       "      <td>&gt;30</td>\n",
       "    </tr>\n",
       "  </tbody>\n",
       "</table>\n",
       "<p>5 rows × 50 columns</p>\n",
       "</div>"
      ],
      "text/plain": [
       "   encounter_id  patient_nbr             race  gender      age     weight  \\\n",
       "0       2278392      8222157        Caucasian  Female   [0-10)          ?   \n",
       "1        149190     55629189        Caucasian  Female  [10-20)          ?   \n",
       "2         64410     86047875  AfricanAmerican  Female  [20-30)          ?   \n",
       "3     429727004    161137462            Other  Female  [70-80)  [125-150)   \n",
       "4      24882254    178987224            Other    Male  [60-70)    [50-75)   \n",
       "\n",
       "   admission_type_id  discharge_disposition_id  admission_source_id  \\\n",
       "0                  6                        25                    1   \n",
       "1                  1                         1                    7   \n",
       "2                  1                         1                    7   \n",
       "3                  5                        10                   25   \n",
       "4                  2                        25                   18   \n",
       "\n",
       "   time_in_hospital  ... citoglipton insulin  glyburide-metformin  \\\n",
       "0                 1  ...          No      No                   No   \n",
       "1                 3  ...          No      Up                   No   \n",
       "2                 2  ...          No      No                   No   \n",
       "3                 5  ...          No      No                   No   \n",
       "4                12  ...          No  Steady                   Up   \n",
       "\n",
       "   glipizide-metformin  glimepiride-pioglitazone  metformin-rosiglitazone  \\\n",
       "0                   No                        No                       No   \n",
       "1                   No                        No                       No   \n",
       "2                   No                        No                       No   \n",
       "3               Steady                    Steady                   Steady   \n",
       "4                   No                        No                       No   \n",
       "\n",
       "   metformin-pioglitazone  change diabetesMed readmitted  \n",
       "0                      No      No          No         NO  \n",
       "1                      No      Ch         Yes        >30  \n",
       "2                      No      No         Yes         NO  \n",
       "3                      No      Ch          No        >30  \n",
       "4                  Steady      No         Yes        >30  \n",
       "\n",
       "[5 rows x 50 columns]"
      ]
     },
     "execution_count": 2,
     "metadata": {},
     "output_type": "execute_result"
    }
   ],
   "source": [
    "# Load the data\n",
    "file_path = 'synthetic_diabetic_data.csv'\n",
    "data = pd.read_csv(file_path)\n",
    "\n",
    "# Display the first 5 rows\n",
    "data.head()"
   ]
  },
  {
   "cell_type": "markdown",
   "metadata": {
    "id": "gBZ5penTkPJr"
   },
   "source": [
    "## 4. Data Cleaning"
   ]
  },
  {
   "cell_type": "markdown",
   "metadata": {
    "id": "M5aNCklvkPJs"
   },
   "source": [
    "### 1. Dropping unlisted columns"
   ]
  },
  {
   "cell_type": "code",
   "execution_count": 3,
   "metadata": {
    "id": "5vSjIKOckPJs"
   },
   "outputs": [],
   "source": [
    "# Select only the specified columns\n",
    "columns_needed = [\n",
    "    'patient_nbr', 'gender', 'age', 'weight', 'time_in_hospital',\n",
    "    'medical_specialty', 'num_lab_procedures', 'num_procedures',\n",
    "    'num_medications', 'number_outpatient', 'number_emergency',\n",
    "    'number_inpatient', 'number_diagnoses', 'diabetesMed', 'readmitted'\n",
    "]\n",
    "data = data[columns_needed]"
   ]
  },
  {
   "cell_type": "markdown",
   "metadata": {
    "id": "BoRCsBk3kPJt"
   },
   "source": [
    "### 2. Checking for missing values"
   ]
  },
  {
   "cell_type": "code",
   "execution_count": 4,
   "metadata": {
    "colab": {
     "base_uri": "https://localhost:8080/"
    },
    "id": "7f5mbj4bkPJt",
    "outputId": "73ca6997-f29e-46b8-ee83-842091461d71"
   },
   "outputs": [
    {
     "name": "stdout",
     "output_type": "stream",
     "text": [
      "Missing Values:\n",
      " patient_nbr           0\n",
      "gender                0\n",
      "age                   0\n",
      "weight                0\n",
      "time_in_hospital      0\n",
      "medical_specialty     0\n",
      "num_lab_procedures    0\n",
      "num_procedures        0\n",
      "num_medications       0\n",
      "number_outpatient     0\n",
      "number_emergency      0\n",
      "number_inpatient      0\n",
      "number_diagnoses      0\n",
      "diabetesMed           0\n",
      "readmitted            0\n",
      "dtype: int64\n"
     ]
    }
   ],
   "source": [
    "missing_values = data.isnull().sum()\n",
    "print(\"Missing Values:\\n\", missing_values)"
   ]
  },
  {
   "cell_type": "markdown",
   "metadata": {
    "id": "NISkmVynkPJu"
   },
   "source": [
    "### 3. Handling missing values"
   ]
  },
  {
   "cell_type": "code",
   "execution_count": 5,
   "metadata": {
    "colab": {
     "base_uri": "https://localhost:8080/",
     "height": 313
    },
    "id": "qWQqkWCWkPJu",
    "outputId": "5d8d0d1c-9a8d-4c30-cd63-83e33bfd4cc4"
   },
   "outputs": [
    {
     "data": {
      "text/html": [
       "<div>\n",
       "<style scoped>\n",
       "    .dataframe tbody tr th:only-of-type {\n",
       "        vertical-align: middle;\n",
       "    }\n",
       "\n",
       "    .dataframe tbody tr th {\n",
       "        vertical-align: top;\n",
       "    }\n",
       "\n",
       "    .dataframe thead th {\n",
       "        text-align: right;\n",
       "    }\n",
       "</style>\n",
       "<table border=\"1\" class=\"dataframe\">\n",
       "  <thead>\n",
       "    <tr style=\"text-align: right;\">\n",
       "      <th></th>\n",
       "      <th>patient_nbr</th>\n",
       "      <th>gender</th>\n",
       "      <th>age</th>\n",
       "      <th>weight</th>\n",
       "      <th>time_in_hospital</th>\n",
       "      <th>medical_specialty</th>\n",
       "      <th>num_lab_procedures</th>\n",
       "      <th>num_procedures</th>\n",
       "      <th>num_medications</th>\n",
       "      <th>number_outpatient</th>\n",
       "      <th>number_emergency</th>\n",
       "      <th>number_inpatient</th>\n",
       "      <th>number_diagnoses</th>\n",
       "      <th>diabetesMed</th>\n",
       "      <th>readmitted</th>\n",
       "    </tr>\n",
       "  </thead>\n",
       "  <tbody>\n",
       "    <tr>\n",
       "      <th>0</th>\n",
       "      <td>8222157</td>\n",
       "      <td>Female</td>\n",
       "      <td>[0-10)</td>\n",
       "      <td>?</td>\n",
       "      <td>1</td>\n",
       "      <td>Pediatrics-Endocrinology</td>\n",
       "      <td>41</td>\n",
       "      <td>0</td>\n",
       "      <td>1</td>\n",
       "      <td>0</td>\n",
       "      <td>0</td>\n",
       "      <td>0</td>\n",
       "      <td>1</td>\n",
       "      <td>No</td>\n",
       "      <td>NO</td>\n",
       "    </tr>\n",
       "    <tr>\n",
       "      <th>1</th>\n",
       "      <td>55629189</td>\n",
       "      <td>Female</td>\n",
       "      <td>[10-20)</td>\n",
       "      <td>?</td>\n",
       "      <td>3</td>\n",
       "      <td>?</td>\n",
       "      <td>59</td>\n",
       "      <td>0</td>\n",
       "      <td>18</td>\n",
       "      <td>0</td>\n",
       "      <td>0</td>\n",
       "      <td>0</td>\n",
       "      <td>9</td>\n",
       "      <td>Yes</td>\n",
       "      <td>&gt;30</td>\n",
       "    </tr>\n",
       "    <tr>\n",
       "      <th>2</th>\n",
       "      <td>86047875</td>\n",
       "      <td>Female</td>\n",
       "      <td>[20-30)</td>\n",
       "      <td>?</td>\n",
       "      <td>2</td>\n",
       "      <td>?</td>\n",
       "      <td>11</td>\n",
       "      <td>5</td>\n",
       "      <td>13</td>\n",
       "      <td>2</td>\n",
       "      <td>0</td>\n",
       "      <td>1</td>\n",
       "      <td>6</td>\n",
       "      <td>Yes</td>\n",
       "      <td>NO</td>\n",
       "    </tr>\n",
       "    <tr>\n",
       "      <th>3</th>\n",
       "      <td>161137462</td>\n",
       "      <td>Female</td>\n",
       "      <td>[70-80)</td>\n",
       "      <td>[125-150)</td>\n",
       "      <td>5</td>\n",
       "      <td>InfectiousDiseases</td>\n",
       "      <td>66</td>\n",
       "      <td>2</td>\n",
       "      <td>9</td>\n",
       "      <td>33</td>\n",
       "      <td>71</td>\n",
       "      <td>18</td>\n",
       "      <td>1</td>\n",
       "      <td>No</td>\n",
       "      <td>&gt;30</td>\n",
       "    </tr>\n",
       "    <tr>\n",
       "      <th>4</th>\n",
       "      <td>178987224</td>\n",
       "      <td>Male</td>\n",
       "      <td>[60-70)</td>\n",
       "      <td>[50-75)</td>\n",
       "      <td>12</td>\n",
       "      <td>DCPTEAM</td>\n",
       "      <td>83</td>\n",
       "      <td>0</td>\n",
       "      <td>54</td>\n",
       "      <td>37</td>\n",
       "      <td>14</td>\n",
       "      <td>1</td>\n",
       "      <td>6</td>\n",
       "      <td>Yes</td>\n",
       "      <td>&gt;30</td>\n",
       "    </tr>\n",
       "  </tbody>\n",
       "</table>\n",
       "</div>"
      ],
      "text/plain": [
       "   patient_nbr  gender      age     weight  time_in_hospital  \\\n",
       "0      8222157  Female   [0-10)          ?                 1   \n",
       "1     55629189  Female  [10-20)          ?                 3   \n",
       "2     86047875  Female  [20-30)          ?                 2   \n",
       "3    161137462  Female  [70-80)  [125-150)                 5   \n",
       "4    178987224    Male  [60-70)    [50-75)                12   \n",
       "\n",
       "          medical_specialty  num_lab_procedures  num_procedures  \\\n",
       "0  Pediatrics-Endocrinology                  41               0   \n",
       "1                         ?                  59               0   \n",
       "2                         ?                  11               5   \n",
       "3        InfectiousDiseases                  66               2   \n",
       "4                   DCPTEAM                  83               0   \n",
       "\n",
       "   num_medications  number_outpatient  number_emergency  number_inpatient  \\\n",
       "0                1                  0                 0                 0   \n",
       "1               18                  0                 0                 0   \n",
       "2               13                  2                 0                 1   \n",
       "3                9                 33                71                18   \n",
       "4               54                 37                14                 1   \n",
       "\n",
       "   number_diagnoses diabetesMed readmitted  \n",
       "0                 1          No         NO  \n",
       "1                 9         Yes        >30  \n",
       "2                 6         Yes         NO  \n",
       "3                 1          No        >30  \n",
       "4                 6         Yes        >30  "
      ]
     },
     "execution_count": 5,
     "metadata": {},
     "output_type": "execute_result"
    }
   ],
   "source": [
    "# Dropping rows where 'weight' is missing as a potential option\n",
    "data.dropna(subset=['weight'], inplace=True)\n",
    "data.head()"
   ]
  },
  {
   "cell_type": "code",
   "execution_count": 6,
   "metadata": {
    "colab": {
     "base_uri": "https://localhost:8080/",
     "height": 313
    },
    "id": "Wv1SyvfpkPJv",
    "outputId": "5a7f9cd8-08a0-4acc-b04a-3d0fd60c26df"
   },
   "outputs": [
    {
     "data": {
      "text/html": [
       "<div>\n",
       "<style scoped>\n",
       "    .dataframe tbody tr th:only-of-type {\n",
       "        vertical-align: middle;\n",
       "    }\n",
       "\n",
       "    .dataframe tbody tr th {\n",
       "        vertical-align: top;\n",
       "    }\n",
       "\n",
       "    .dataframe thead th {\n",
       "        text-align: right;\n",
       "    }\n",
       "</style>\n",
       "<table border=\"1\" class=\"dataframe\">\n",
       "  <thead>\n",
       "    <tr style=\"text-align: right;\">\n",
       "      <th></th>\n",
       "      <th>patient_nbr</th>\n",
       "      <th>gender</th>\n",
       "      <th>age</th>\n",
       "      <th>weight</th>\n",
       "      <th>time_in_hospital</th>\n",
       "      <th>medical_specialty</th>\n",
       "      <th>num_lab_procedures</th>\n",
       "      <th>num_procedures</th>\n",
       "      <th>num_medications</th>\n",
       "      <th>number_outpatient</th>\n",
       "      <th>number_emergency</th>\n",
       "      <th>number_inpatient</th>\n",
       "      <th>number_diagnoses</th>\n",
       "      <th>diabetesMed</th>\n",
       "      <th>readmitted</th>\n",
       "    </tr>\n",
       "  </thead>\n",
       "  <tbody>\n",
       "    <tr>\n",
       "      <th>3</th>\n",
       "      <td>161137462</td>\n",
       "      <td>Female</td>\n",
       "      <td>[70-80)</td>\n",
       "      <td>[125-150)</td>\n",
       "      <td>5</td>\n",
       "      <td>InfectiousDiseases</td>\n",
       "      <td>66</td>\n",
       "      <td>2</td>\n",
       "      <td>9</td>\n",
       "      <td>33</td>\n",
       "      <td>71</td>\n",
       "      <td>18</td>\n",
       "      <td>1</td>\n",
       "      <td>No</td>\n",
       "      <td>&gt;30</td>\n",
       "    </tr>\n",
       "    <tr>\n",
       "      <th>4</th>\n",
       "      <td>178987224</td>\n",
       "      <td>Male</td>\n",
       "      <td>[60-70)</td>\n",
       "      <td>[50-75)</td>\n",
       "      <td>12</td>\n",
       "      <td>DCPTEAM</td>\n",
       "      <td>83</td>\n",
       "      <td>0</td>\n",
       "      <td>54</td>\n",
       "      <td>37</td>\n",
       "      <td>14</td>\n",
       "      <td>1</td>\n",
       "      <td>6</td>\n",
       "      <td>Yes</td>\n",
       "      <td>&gt;30</td>\n",
       "    </tr>\n",
       "    <tr>\n",
       "      <th>5</th>\n",
       "      <td>155688693</td>\n",
       "      <td>Unknown/Invalid</td>\n",
       "      <td>[30-40)</td>\n",
       "      <td>&gt;200</td>\n",
       "      <td>11</td>\n",
       "      <td>Radiology</td>\n",
       "      <td>110</td>\n",
       "      <td>3</td>\n",
       "      <td>4</td>\n",
       "      <td>38</td>\n",
       "      <td>0</td>\n",
       "      <td>10</td>\n",
       "      <td>8</td>\n",
       "      <td>No</td>\n",
       "      <td>&gt;30</td>\n",
       "    </tr>\n",
       "    <tr>\n",
       "      <th>6</th>\n",
       "      <td>148640105</td>\n",
       "      <td>Male</td>\n",
       "      <td>[30-40)</td>\n",
       "      <td>[75-100)</td>\n",
       "      <td>14</td>\n",
       "      <td>Psychiatry</td>\n",
       "      <td>127</td>\n",
       "      <td>2</td>\n",
       "      <td>62</td>\n",
       "      <td>25</td>\n",
       "      <td>47</td>\n",
       "      <td>20</td>\n",
       "      <td>11</td>\n",
       "      <td>Yes</td>\n",
       "      <td>&lt;30</td>\n",
       "    </tr>\n",
       "    <tr>\n",
       "      <th>7</th>\n",
       "      <td>179391750</td>\n",
       "      <td>Female</td>\n",
       "      <td>[20-30)</td>\n",
       "      <td>[0-25)</td>\n",
       "      <td>13</td>\n",
       "      <td>Psychology</td>\n",
       "      <td>114</td>\n",
       "      <td>3</td>\n",
       "      <td>21</td>\n",
       "      <td>18</td>\n",
       "      <td>37</td>\n",
       "      <td>21</td>\n",
       "      <td>11</td>\n",
       "      <td>No</td>\n",
       "      <td>NO</td>\n",
       "    </tr>\n",
       "  </tbody>\n",
       "</table>\n",
       "</div>"
      ],
      "text/plain": [
       "   patient_nbr           gender      age     weight  time_in_hospital  \\\n",
       "3    161137462           Female  [70-80)  [125-150)                 5   \n",
       "4    178987224             Male  [60-70)    [50-75)                12   \n",
       "5    155688693  Unknown/Invalid  [30-40)       >200                11   \n",
       "6    148640105             Male  [30-40)   [75-100)                14   \n",
       "7    179391750           Female  [20-30)     [0-25)                13   \n",
       "\n",
       "    medical_specialty  num_lab_procedures  num_procedures  num_medications  \\\n",
       "3  InfectiousDiseases                  66               2                9   \n",
       "4             DCPTEAM                  83               0               54   \n",
       "5           Radiology                 110               3                4   \n",
       "6          Psychiatry                 127               2               62   \n",
       "7          Psychology                 114               3               21   \n",
       "\n",
       "   number_outpatient  number_emergency  number_inpatient  number_diagnoses  \\\n",
       "3                 33                71                18                 1   \n",
       "4                 37                14                 1                 6   \n",
       "5                 38                 0                10                 8   \n",
       "6                 25                47                20                11   \n",
       "7                 18                37                21                11   \n",
       "\n",
       "  diabetesMed readmitted  \n",
       "3          No        >30  \n",
       "4         Yes        >30  \n",
       "5          No        >30  \n",
       "6         Yes        <30  \n",
       "7          No         NO  "
      ]
     },
     "execution_count": 6,
     "metadata": {},
     "output_type": "execute_result"
    }
   ],
   "source": [
    "# Dropping rows with '?' in the column weight\n",
    "data = data[(data['weight'] != '?')]\n",
    "\n",
    "# Display the first few rows to confirm the changes\n",
    "data.head()"
   ]
  },
  {
   "cell_type": "code",
   "execution_count": 7,
   "metadata": {
    "colab": {
     "base_uri": "https://localhost:8080/",
     "height": 313
    },
    "id": "ryZE0iFmkPJv",
    "outputId": "11f1d145-549a-4db9-83e4-1b7cee373caf"
   },
   "outputs": [
    {
     "data": {
      "text/html": [
       "<div>\n",
       "<style scoped>\n",
       "    .dataframe tbody tr th:only-of-type {\n",
       "        vertical-align: middle;\n",
       "    }\n",
       "\n",
       "    .dataframe tbody tr th {\n",
       "        vertical-align: top;\n",
       "    }\n",
       "\n",
       "    .dataframe thead th {\n",
       "        text-align: right;\n",
       "    }\n",
       "</style>\n",
       "<table border=\"1\" class=\"dataframe\">\n",
       "  <thead>\n",
       "    <tr style=\"text-align: right;\">\n",
       "      <th></th>\n",
       "      <th>patient_nbr</th>\n",
       "      <th>gender</th>\n",
       "      <th>age</th>\n",
       "      <th>weight</th>\n",
       "      <th>time_in_hospital</th>\n",
       "      <th>medical_specialty</th>\n",
       "      <th>num_lab_procedures</th>\n",
       "      <th>num_procedures</th>\n",
       "      <th>num_medications</th>\n",
       "      <th>number_outpatient</th>\n",
       "      <th>number_emergency</th>\n",
       "      <th>number_inpatient</th>\n",
       "      <th>number_diagnoses</th>\n",
       "      <th>diabetesMed</th>\n",
       "      <th>readmitted</th>\n",
       "    </tr>\n",
       "  </thead>\n",
       "  <tbody>\n",
       "    <tr>\n",
       "      <th>3</th>\n",
       "      <td>161137462</td>\n",
       "      <td>Female</td>\n",
       "      <td>[70-80)</td>\n",
       "      <td>[125-150)</td>\n",
       "      <td>5</td>\n",
       "      <td>InfectiousDiseases</td>\n",
       "      <td>66</td>\n",
       "      <td>2</td>\n",
       "      <td>9</td>\n",
       "      <td>33</td>\n",
       "      <td>71</td>\n",
       "      <td>18</td>\n",
       "      <td>1</td>\n",
       "      <td>No</td>\n",
       "      <td>&gt;30</td>\n",
       "    </tr>\n",
       "    <tr>\n",
       "      <th>4</th>\n",
       "      <td>178987224</td>\n",
       "      <td>Male</td>\n",
       "      <td>[60-70)</td>\n",
       "      <td>[50-75)</td>\n",
       "      <td>12</td>\n",
       "      <td>DCPTEAM</td>\n",
       "      <td>83</td>\n",
       "      <td>0</td>\n",
       "      <td>54</td>\n",
       "      <td>37</td>\n",
       "      <td>14</td>\n",
       "      <td>1</td>\n",
       "      <td>6</td>\n",
       "      <td>Yes</td>\n",
       "      <td>&gt;30</td>\n",
       "    </tr>\n",
       "    <tr>\n",
       "      <th>5</th>\n",
       "      <td>155688693</td>\n",
       "      <td>Unknown/Invalid</td>\n",
       "      <td>[30-40)</td>\n",
       "      <td>&gt;200</td>\n",
       "      <td>11</td>\n",
       "      <td>Radiology</td>\n",
       "      <td>110</td>\n",
       "      <td>3</td>\n",
       "      <td>4</td>\n",
       "      <td>38</td>\n",
       "      <td>0</td>\n",
       "      <td>10</td>\n",
       "      <td>8</td>\n",
       "      <td>No</td>\n",
       "      <td>&gt;30</td>\n",
       "    </tr>\n",
       "    <tr>\n",
       "      <th>6</th>\n",
       "      <td>148640105</td>\n",
       "      <td>Male</td>\n",
       "      <td>[30-40)</td>\n",
       "      <td>[75-100)</td>\n",
       "      <td>14</td>\n",
       "      <td>Psychiatry</td>\n",
       "      <td>127</td>\n",
       "      <td>2</td>\n",
       "      <td>62</td>\n",
       "      <td>25</td>\n",
       "      <td>47</td>\n",
       "      <td>20</td>\n",
       "      <td>11</td>\n",
       "      <td>Yes</td>\n",
       "      <td>&lt;30</td>\n",
       "    </tr>\n",
       "    <tr>\n",
       "      <th>7</th>\n",
       "      <td>179391750</td>\n",
       "      <td>Female</td>\n",
       "      <td>[20-30)</td>\n",
       "      <td>[0-25)</td>\n",
       "      <td>13</td>\n",
       "      <td>Psychology</td>\n",
       "      <td>114</td>\n",
       "      <td>3</td>\n",
       "      <td>21</td>\n",
       "      <td>18</td>\n",
       "      <td>37</td>\n",
       "      <td>21</td>\n",
       "      <td>11</td>\n",
       "      <td>No</td>\n",
       "      <td>NO</td>\n",
       "    </tr>\n",
       "  </tbody>\n",
       "</table>\n",
       "</div>"
      ],
      "text/plain": [
       "   patient_nbr           gender      age     weight  time_in_hospital  \\\n",
       "3    161137462           Female  [70-80)  [125-150)                 5   \n",
       "4    178987224             Male  [60-70)    [50-75)                12   \n",
       "5    155688693  Unknown/Invalid  [30-40)       >200                11   \n",
       "6    148640105             Male  [30-40)   [75-100)                14   \n",
       "7    179391750           Female  [20-30)     [0-25)                13   \n",
       "\n",
       "    medical_specialty  num_lab_procedures  num_procedures  num_medications  \\\n",
       "3  InfectiousDiseases                  66               2                9   \n",
       "4             DCPTEAM                  83               0               54   \n",
       "5           Radiology                 110               3                4   \n",
       "6          Psychiatry                 127               2               62   \n",
       "7          Psychology                 114               3               21   \n",
       "\n",
       "   number_outpatient  number_emergency  number_inpatient  number_diagnoses  \\\n",
       "3                 33                71                18                 1   \n",
       "4                 37                14                 1                 6   \n",
       "5                 38                 0                10                 8   \n",
       "6                 25                47                20                11   \n",
       "7                 18                37                21                11   \n",
       "\n",
       "  diabetesMed readmitted  \n",
       "3          No        >30  \n",
       "4         Yes        >30  \n",
       "5          No        >30  \n",
       "6         Yes        <30  \n",
       "7          No         NO  "
      ]
     },
     "execution_count": 7,
     "metadata": {},
     "output_type": "execute_result"
    }
   ],
   "source": [
    "# Dropping rows with '?' in the column medical_speciality\n",
    "data = data[(data['medical_specialty'] != '?')]\n",
    "\n",
    "# Display the first few rows to confirm the changes\n",
    "data.head()"
   ]
  },
  {
   "cell_type": "markdown",
   "metadata": {
    "id": "0myxhiflkPJv"
   },
   "source": [
    "### 4. Handling duplicates"
   ]
  },
  {
   "cell_type": "markdown",
   "metadata": {
    "id": "RvA8mP31kPJv"
   },
   "source": [
    "Checking for duplicates"
   ]
  },
  {
   "cell_type": "code",
   "execution_count": 8,
   "metadata": {
    "colab": {
     "base_uri": "https://localhost:8080/"
    },
    "id": "MhSYHkvqkPJw",
    "outputId": "127d1f83-ec97-4a7b-9fda-9f54512e54a1"
   },
   "outputs": [
    {
     "name": "stdout",
     "output_type": "stream",
     "text": [
      "Column 'patient_nbr' has 1 duplicate values.\n",
      "Column 'gender' has 8851 duplicate values.\n",
      "Column 'age' has 8844 duplicate values.\n",
      "Column 'weight' has 8845 duplicate values.\n",
      "Column 'time_in_hospital' has 8840 duplicate values.\n",
      "Column 'medical_specialty' has 8782 duplicate values.\n",
      "Column 'num_lab_procedures' has 8722 duplicate values.\n",
      "Column 'num_procedures' has 8847 duplicate values.\n",
      "Column 'num_medications' has 8773 duplicate values.\n",
      "Column 'number_outpatient' has 8811 duplicate values.\n",
      "Column 'number_emergency' has 8777 duplicate values.\n",
      "Column 'number_inpatient' has 8832 duplicate values.\n",
      "Column 'number_diagnoses' has 8838 duplicate values.\n",
      "Column 'diabetesMed' has 8852 duplicate values.\n",
      "Column 'readmitted' has 8851 duplicate values.\n"
     ]
    }
   ],
   "source": [
    "# Checking for duplicates in each column\n",
    "for column in data.columns:\n",
    "    duplicates = data[column].duplicated().sum()\n",
    "    print(f\"Column '{column}' has {duplicates} duplicate values.\")"
   ]
  },
  {
   "cell_type": "markdown",
   "metadata": {},
   "source": [
    "### Interpretation\n",
    "From this, we can see that only the column 'patient_nbr' which is a unique identifier for each patient has 1 duplicate value that needs to be dropped. For the rest of the columns, the values are not unique identifiers and hence remain okay as duplicates."
   ]
  },
  {
   "cell_type": "code",
   "execution_count": 9,
   "metadata": {
    "id": "osiet2kKkPJw"
   },
   "outputs": [],
   "source": [
    "# Removing duplicates from the column 'patient_nbr'\n",
    "data = data.drop_duplicates(subset=['patient_nbr'], keep='first')"
   ]
  },
  {
   "cell_type": "code",
   "execution_count": 10,
   "metadata": {
    "colab": {
     "base_uri": "https://localhost:8080/"
    },
    "id": "pmaVFUV2kPJw",
    "outputId": "c063e858-7374-4b8a-8b36-0d32e988e0d3"
   },
   "outputs": [
    {
     "name": "stdout",
     "output_type": "stream",
     "text": [
      "Column 'patient_nbr' has 0 duplicate values.\n",
      "Column 'gender' has 8850 duplicate values.\n",
      "Column 'age' has 8843 duplicate values.\n",
      "Column 'weight' has 8844 duplicate values.\n",
      "Column 'time_in_hospital' has 8839 duplicate values.\n",
      "Column 'medical_specialty' has 8781 duplicate values.\n",
      "Column 'num_lab_procedures' has 8721 duplicate values.\n",
      "Column 'num_procedures' has 8846 duplicate values.\n",
      "Column 'num_medications' has 8772 duplicate values.\n",
      "Column 'number_outpatient' has 8810 duplicate values.\n",
      "Column 'number_emergency' has 8776 duplicate values.\n",
      "Column 'number_inpatient' has 8831 duplicate values.\n",
      "Column 'number_diagnoses' has 8837 duplicate values.\n",
      "Column 'diabetesMed' has 8851 duplicate values.\n",
      "Column 'readmitted' has 8850 duplicate values.\n"
     ]
    }
   ],
   "source": [
    "# Checking for duplicates in each column to confirm the changes\n",
    "for column in data.columns:\n",
    "    duplicates = data[column].duplicated().sum()\n",
    "    print(f\"Column '{column}' has {duplicates} duplicate values.\")"
   ]
  },
  {
   "cell_type": "markdown",
   "metadata": {
    "id": "tlmxXq6bkPJx"
   },
   "source": [
    "## 5. Exploratory Data Analysis (EDA)\n",
    "In this section, we will explore the data to understand the distributions and relationships between variables. Visualizations will help identify patterns and outliers, as well as provide insights into factors associated with readmissions.\n"
   ]
  },
  {
   "cell_type": "code",
   "execution_count": 11,
   "metadata": {
    "colab": {
     "base_uri": "https://localhost:8080/",
     "height": 320
    },
    "id": "VP65oUF6kPJx",
    "outputId": "f21f3054-d701-4a95-e95a-da3cc0036207"
   },
   "outputs": [
    {
     "data": {
      "text/html": [
       "<div>\n",
       "<style scoped>\n",
       "    .dataframe tbody tr th:only-of-type {\n",
       "        vertical-align: middle;\n",
       "    }\n",
       "\n",
       "    .dataframe tbody tr th {\n",
       "        vertical-align: top;\n",
       "    }\n",
       "\n",
       "    .dataframe thead th {\n",
       "        text-align: right;\n",
       "    }\n",
       "</style>\n",
       "<table border=\"1\" class=\"dataframe\">\n",
       "  <thead>\n",
       "    <tr style=\"text-align: right;\">\n",
       "      <th></th>\n",
       "      <th>patient_nbr</th>\n",
       "      <th>time_in_hospital</th>\n",
       "      <th>num_lab_procedures</th>\n",
       "      <th>num_procedures</th>\n",
       "      <th>num_medications</th>\n",
       "      <th>number_outpatient</th>\n",
       "      <th>number_emergency</th>\n",
       "      <th>number_inpatient</th>\n",
       "      <th>number_diagnoses</th>\n",
       "    </tr>\n",
       "  </thead>\n",
       "  <tbody>\n",
       "    <tr>\n",
       "      <th>count</th>\n",
       "      <td>8.853000e+03</td>\n",
       "      <td>8853.000000</td>\n",
       "      <td>8853.000000</td>\n",
       "      <td>8853.000000</td>\n",
       "      <td>8853.000000</td>\n",
       "      <td>8853.000000</td>\n",
       "      <td>8853.000000</td>\n",
       "      <td>8853.000000</td>\n",
       "      <td>8853.000000</td>\n",
       "    </tr>\n",
       "    <tr>\n",
       "      <th>mean</th>\n",
       "      <td>9.442742e+07</td>\n",
       "      <td>7.534508</td>\n",
       "      <td>66.791596</td>\n",
       "      <td>3.031402</td>\n",
       "      <td>41.333107</td>\n",
       "      <td>21.043375</td>\n",
       "      <td>38.245679</td>\n",
       "      <td>10.517678</td>\n",
       "      <td>8.580933</td>\n",
       "    </tr>\n",
       "    <tr>\n",
       "      <th>std</th>\n",
       "      <td>5.472411e+07</td>\n",
       "      <td>4.024309</td>\n",
       "      <td>37.995975</td>\n",
       "      <td>1.997379</td>\n",
       "      <td>23.277760</td>\n",
       "      <td>12.415959</td>\n",
       "      <td>22.254923</td>\n",
       "      <td>6.316213</td>\n",
       "      <td>4.568172</td>\n",
       "    </tr>\n",
       "    <tr>\n",
       "      <th>min</th>\n",
       "      <td>3.750500e+04</td>\n",
       "      <td>1.000000</td>\n",
       "      <td>1.000000</td>\n",
       "      <td>0.000000</td>\n",
       "      <td>1.000000</td>\n",
       "      <td>0.000000</td>\n",
       "      <td>0.000000</td>\n",
       "      <td>0.000000</td>\n",
       "      <td>1.000000</td>\n",
       "    </tr>\n",
       "    <tr>\n",
       "      <th>25%</th>\n",
       "      <td>4.702353e+07</td>\n",
       "      <td>4.000000</td>\n",
       "      <td>34.000000</td>\n",
       "      <td>1.000000</td>\n",
       "      <td>21.000000</td>\n",
       "      <td>10.000000</td>\n",
       "      <td>19.000000</td>\n",
       "      <td>5.000000</td>\n",
       "      <td>5.000000</td>\n",
       "    </tr>\n",
       "    <tr>\n",
       "      <th>50%</th>\n",
       "      <td>9.449942e+07</td>\n",
       "      <td>8.000000</td>\n",
       "      <td>67.000000</td>\n",
       "      <td>3.000000</td>\n",
       "      <td>41.000000</td>\n",
       "      <td>21.000000</td>\n",
       "      <td>39.000000</td>\n",
       "      <td>11.000000</td>\n",
       "      <td>9.000000</td>\n",
       "    </tr>\n",
       "    <tr>\n",
       "      <th>75%</th>\n",
       "      <td>1.422599e+08</td>\n",
       "      <td>11.000000</td>\n",
       "      <td>99.000000</td>\n",
       "      <td>5.000000</td>\n",
       "      <td>61.000000</td>\n",
       "      <td>32.000000</td>\n",
       "      <td>58.000000</td>\n",
       "      <td>16.000000</td>\n",
       "      <td>13.000000</td>\n",
       "    </tr>\n",
       "    <tr>\n",
       "      <th>max</th>\n",
       "      <td>1.894782e+08</td>\n",
       "      <td>14.000000</td>\n",
       "      <td>132.000000</td>\n",
       "      <td>6.000000</td>\n",
       "      <td>81.000000</td>\n",
       "      <td>42.000000</td>\n",
       "      <td>76.000000</td>\n",
       "      <td>21.000000</td>\n",
       "      <td>16.000000</td>\n",
       "    </tr>\n",
       "  </tbody>\n",
       "</table>\n",
       "</div>"
      ],
      "text/plain": [
       "        patient_nbr  time_in_hospital  num_lab_procedures  num_procedures  \\\n",
       "count  8.853000e+03       8853.000000         8853.000000     8853.000000   \n",
       "mean   9.442742e+07          7.534508           66.791596        3.031402   \n",
       "std    5.472411e+07          4.024309           37.995975        1.997379   \n",
       "min    3.750500e+04          1.000000            1.000000        0.000000   \n",
       "25%    4.702353e+07          4.000000           34.000000        1.000000   \n",
       "50%    9.449942e+07          8.000000           67.000000        3.000000   \n",
       "75%    1.422599e+08         11.000000           99.000000        5.000000   \n",
       "max    1.894782e+08         14.000000          132.000000        6.000000   \n",
       "\n",
       "       num_medications  number_outpatient  number_emergency  number_inpatient  \\\n",
       "count      8853.000000        8853.000000       8853.000000       8853.000000   \n",
       "mean         41.333107          21.043375         38.245679         10.517678   \n",
       "std          23.277760          12.415959         22.254923          6.316213   \n",
       "min           1.000000           0.000000          0.000000          0.000000   \n",
       "25%          21.000000          10.000000         19.000000          5.000000   \n",
       "50%          41.000000          21.000000         39.000000         11.000000   \n",
       "75%          61.000000          32.000000         58.000000         16.000000   \n",
       "max          81.000000          42.000000         76.000000         21.000000   \n",
       "\n",
       "       number_diagnoses  \n",
       "count       8853.000000  \n",
       "mean           8.580933  \n",
       "std            4.568172  \n",
       "min            1.000000  \n",
       "25%            5.000000  \n",
       "50%            9.000000  \n",
       "75%           13.000000  \n",
       "max           16.000000  "
      ]
     },
     "execution_count": 11,
     "metadata": {},
     "output_type": "execute_result"
    }
   ],
   "source": [
    "# Summary statistics\n",
    "data.describe()"
   ]
  },
  {
   "cell_type": "markdown",
   "metadata": {
    "id": "r0Q59E7nkPJy"
   },
   "source": [
    "### Age Group Distribution\n",
    "This plot shows the distribution of patients across different age groups. By visualizing the counts for each age group, we can identify the age ranges that are more prevalent in the dataset. This information is essential because age can be a factor in readmission risk. Knowing which age groups have the highest or lowest representation will guide our analysis, especially if age impacts readmission rates."
   ]
  },
  {
   "cell_type": "code",
   "execution_count": 12,
   "metadata": {
    "colab": {
     "base_uri": "https://localhost:8080/",
     "height": 564
    },
    "id": "HynW69xKkPJy",
    "outputId": "30e09d07-be26-4919-b6ce-35c0e0d0d5bb"
   },
   "outputs": [
    {
     "data": {
      "image/png": "[encoded data removed]",
      "text/plain": [
       "<Figure size 720x432 with 1 Axes>"
      ]
     },
     "metadata": {
      "needs_background": "light"
     },
     "output_type": "display_data"
    }
   ],
   "source": [
    "# Age distribution\n",
    "plt.figure(figsize=(10, 6))\n",
    "sns.countplot(data=data, x='age')\n",
    "plt.title('Age Group Distribution')\n",
    "plt.xlabel('Age Group')\n",
    "plt.ylabel('Count')\n",
    "plt.show()"
   ]
  },
  {
   "cell_type": "markdown",
   "metadata": {
    "id": "4ZIZwV0ikPJy"
   },
   "source": [
    "### Readmission rates by age group\n",
    "This plot uses the `age` column on the x-axis and the count of patients on the y-axis, with a separate bar for each `readmitted` status (e.g., `Yes` or `No`). By visualizing it this way, we can see which age groups are most frequently readmitted compared to those who aren’t, highlighting any age-related trends in readmission rates."
   ]
  },
  {
   "cell_type": "code",
   "execution_count": 13,
   "metadata": {
    "colab": {
     "base_uri": "https://localhost:8080/",
     "height": 560
    },
    "id": "7m2Kn_9okPJy",
    "outputId": "e58de3ec-d938-440b-c779-bca9f2bed562"
   },
   "outputs": [
    {
     "data": {
      "image/png": "[encoded data removed]",
      "text/plain": [
       "<Figure size 864x432 with 1 Axes>"
      ]
     },
     "metadata": {
      "needs_background": "light"
     },
     "output_type": "display_data"
    }
   ],
   "source": [
    "# Plotting readmission rates by age group\n",
    "plt.figure(figsize=(12, 6))\n",
    "sns.countplot(data=data, x='age', hue='readmitted')\n",
    "plt.title('Readmission Rates by Age Group')\n",
    "plt.xlabel('Age Group')\n",
    "plt.ylabel('Count')\n",
    "plt.legend(title='Readmitted')\n",
    "plt.xticks(rotation=45)\n",
    "plt.show()"
   ]
  },
  {
   "cell_type": "markdown",
   "metadata": {
    "id": "LKqRJA9fkPJz"
   },
   "source": [
    "### Time in Hospital by Readmission Status\n",
    "Here, we use a box plot to analyze the distribution of `time_in_hospital` for patients with different readmission statuses. This plot provides information on the spread and median of hospital stay lengths, categorized by readmission status. By examining this, we can assess if there is a significant difference in hospital stay duration between readmitted and non-readmitted patients. Longer or shorter stays might correlate with different readmission risks, making this a valuable analysis."
   ]
  },
  {
   "cell_type": "code",
   "execution_count": 14,
   "metadata": {
    "colab": {
     "base_uri": "https://localhost:8080/",
     "height": 564
    },
    "id": "WNdcs8gqkPJz",
    "outputId": "82feb803-9fbc-42f4-8df5-9cc9a3e96cd9"
   },
   "outputs": [
    {
     "data": {
      "image/png": "[encoded data removed]",
      "text/plain": [
       "<Figure size 720x432 with 1 Axes>"
      ]
     },
     "metadata": {
      "needs_background": "light"
     },
     "output_type": "display_data"
    }
   ],
   "source": [
    "# Time in hospital vs. readmission\n",
    "plt.figure(figsize=(10, 6))\n",
    "sns.boxplot(data=data, x='readmitted', y='time_in_hospital')\n",
    "plt.title('Time in Hospital by Readmission Status')\n",
    "plt.xlabel('Readmitted')\n",
    "plt.ylabel('Time in Hospital (Days)')\n",
    "plt.show()"
   ]
  },
  {
   "cell_type": "markdown",
   "metadata": {
    "id": "18jdQ4HvkPJz"
   },
   "source": [
    "### Readmission Rates by Gender\n",
    "This visualization displays readmission counts for each gender, comparing those who were readmitted against those who were not. By including the `readmitted` status as a hue, we can examine if there is a noticeable difference in readmission rates between genders. This insight can help determine if gender is an influential factor in readmission likelihood, which could have implications for targeted interventions."
   ]
  },
  {
   "cell_type": "code",
   "execution_count": 15,
   "metadata": {
    "colab": {
     "base_uri": "https://localhost:8080/",
     "height": 487
    },
    "id": "QohdMbfckPJ0",
    "outputId": "98bf6852-3a20-4d1d-d43a-3d84d52fd376"
   },
   "outputs": [
    {
     "data": {
      "image/png": "[encoded data removed]",
      "text/plain": [
       "<Figure size 576x360 with 1 Axes>"
      ]
     },
     "metadata": {
      "needs_background": "light"
     },
     "output_type": "display_data"
    }
   ],
   "source": [
    "# Readmission rates by gender\n",
    "plt.figure(figsize=(8, 5))\n",
    "sns.countplot(data=data, x='gender', hue='readmitted')\n",
    "plt.title('Readmission Rates by Gender')\n",
    "plt.xlabel('Gender')\n",
    "plt.ylabel('Count')\n",
    "plt.legend(title='Readmitted')\n",
    "plt.show()"
   ]
  },
  {
   "cell_type": "markdown",
   "metadata": {
    "id": "mA9SjM8OkPJ0"
   },
   "source": [
    "### Correlation Heatmap\n",
    "The heatmap displays correlations between all numerical variables in the dataset, with each cell representing the correlation coefficient between two features. Darker colors indicate stronger correlations, whether positive or negative. This visualization helps in identifying which features are closely related to each other, which may aid in feature selection for the predictive model. Variables with high correlations to `readmitted` or each other can reveal important relationships that influence patient readmission risk."
   ]
  },
  {
   "cell_type": "code",
   "execution_count": 16,
   "metadata": {
    "colab": {
     "base_uri": "https://localhost:8080/",
     "height": 755
    },
    "id": "omdtfq9JmZUG",
    "outputId": "c3c8379d-4b9e-45f6-da47-f7be1cb1a986"
   },
   "outputs": [
    {
     "data": {
      "image/png": "[encoded data removed]",
      "text/plain": [
       "<Figure size 864x576 with 2 Axes>"
      ]
     },
     "metadata": {
      "needs_background": "light"
     },
     "output_type": "display_data"
    }
   ],
   "source": [
    "# Correlation heatmap for numerical features\n",
    "plt.figure(figsize=(12, 8))\n",
    "\n",
    "# Select only numerical features for correlation calculation\n",
    "numerical_data = data.select_dtypes(include=np.number)\n",
    "sns.heatmap(numerical_data.corr(), annot=True, cmap='coolwarm', fmt='.2f')\n",
    "plt.title('Correlation Heatmap')\n",
    "plt.show()"
   ]
  },
  {
   "cell_type": "markdown",
   "metadata": {
    "id": "RYgcHyGWkPJ0"
   },
   "source": [
    "## 6. Dropping columns irrelevant to our prediction"
   ]
  },
  {
   "cell_type": "markdown",
   "metadata": {
    "id": "z36rL5blkPJ1"
   },
   "source": [
    "In predictive modeling, it's important to select features that directly contribute to the outcome. For this project, we aim to predict patient readmissions, so columns that don't provide relevant information to this outcome—like non-medical information—can be safely dropped. Below, we will justify the removal of several columns that are not expected to affect readmission outcomes based on our exploratory data analysis (EDA)."
   ]
  },
  {
   "cell_type": "markdown",
   "metadata": {
    "id": "Pz-3yb1qkPJ1"
   },
   "source": [
    "### Dropping Irrelevant Columns Based on EDA Insights\n",
    "\n",
    "After completing exploratory data analysis, we found that the `gender` and `age` columns do not significantly impact the readmission prediction outcome:\n",
    "\n",
    "- **gender**: Analysis showed no strong correlation between patient gender and readmission rates in our dataset.\n",
    "- **age**: Patient age alone does not provide significant predictive value for readmission. This is likely due to the variability in other health factors that have a more direct impact.\n",
    "\n",
    "To improve model performance, we will remove these columns from the dataset."
   ]
  },
  {
   "cell_type": "code",
   "execution_count": 17,
   "metadata": {
    "colab": {
     "base_uri": "https://localhost:8080/"
    },
    "id": "31U-yS7TkPJ1",
    "outputId": "de02be5f-fd28-41c0-a32b-46605048d865"
   },
   "outputs": [
    {
     "name": "stdout",
     "output_type": "stream",
     "text": [
      "Dropped columns: ['gender', 'age']\n"
     ]
    }
   ],
   "source": [
    "# Dropping 'gender' and 'age' columns based on EDA insights\n",
    "columns_to_drop = ['gender', 'age']\n",
    "data = data.drop(columns=columns_to_drop)\n",
    "\n",
    "print(\"Dropped columns:\", columns_to_drop)"
   ]
  },
  {
   "cell_type": "markdown",
   "metadata": {
    "id": "214ae330"
   },
   "source": [
    "## 7. Modeling and Evaluation\n",
    "\n",
    "Since our goal is to predict patient readmission, we will use unsupervised machine learning techniques to identify patterns that may correlate with readmission.\n",
    "\n",
    "### Steps:\n",
    "1. **Feature Scaling**: Normalize features to ensure optimal clustering performance.\n",
    "2. **Clustering**: Use K-means clustering to form patient groups.\n",
    "3. **Evaluation**: Assess if clusters are predictive of readmission."
   ]
  },
  {
   "cell_type": "markdown",
   "metadata": {
    "id": "60218cba"
   },
   "source": [
    "### Step 1: Feature Scaling\n",
    "To ensure that all features contribute equally to the clustering algorithm, we will apply StandardScaler to normalize the feature values."
   ]
  },
  {
   "cell_type": "code",
   "execution_count": 18,
   "metadata": {
    "colab": {
     "base_uri": "https://localhost:8080/",
     "height": 261
    },
    "id": "3760728d",
    "outputId": "1023ba1e-ac66-4165-c047-e26826c7d632"
   },
   "outputs": [
    {
     "data": {
      "text/html": [
       "<div>\n",
       "<style scoped>\n",
       "    .dataframe tbody tr th:only-of-type {\n",
       "        vertical-align: middle;\n",
       "    }\n",
       "\n",
       "    .dataframe tbody tr th {\n",
       "        vertical-align: top;\n",
       "    }\n",
       "\n",
       "    .dataframe thead th {\n",
       "        text-align: right;\n",
       "    }\n",
       "</style>\n",
       "<table border=\"1\" class=\"dataframe\">\n",
       "  <thead>\n",
       "    <tr style=\"text-align: right;\">\n",
       "      <th></th>\n",
       "      <th>patient_nbr</th>\n",
       "      <th>weight</th>\n",
       "      <th>time_in_hospital</th>\n",
       "      <th>medical_specialty</th>\n",
       "      <th>num_lab_procedures</th>\n",
       "      <th>num_procedures</th>\n",
       "      <th>num_medications</th>\n",
       "      <th>number_outpatient</th>\n",
       "      <th>number_emergency</th>\n",
       "      <th>number_inpatient</th>\n",
       "      <th>number_diagnoses</th>\n",
       "      <th>diabetesMed</th>\n",
       "      <th>readmitted</th>\n",
       "    </tr>\n",
       "  </thead>\n",
       "  <tbody>\n",
       "    <tr>\n",
       "      <th>3</th>\n",
       "      <td>161137462</td>\n",
       "      <td>[125-150)</td>\n",
       "      <td>1.606700</td>\n",
       "      <td>InfectiousDiseases</td>\n",
       "      <td>1.584689</td>\n",
       "      <td>-0.516407</td>\n",
       "      <td>0.887889</td>\n",
       "      <td>0.318691</td>\n",
       "      <td>0.393388</td>\n",
       "      <td>1.501352</td>\n",
       "      <td>0.529578</td>\n",
       "      <td>No</td>\n",
       "      <td>&gt;30</td>\n",
       "    </tr>\n",
       "    <tr>\n",
       "      <th>4</th>\n",
       "      <td>178987224</td>\n",
       "      <td>[50-75)</td>\n",
       "      <td>1.358196</td>\n",
       "      <td>DCPTEAM</td>\n",
       "      <td>1.242528</td>\n",
       "      <td>-0.015722</td>\n",
       "      <td>-0.873549</td>\n",
       "      <td>-0.245132</td>\n",
       "      <td>-0.055976</td>\n",
       "      <td>1.659684</td>\n",
       "      <td>0.529578</td>\n",
       "      <td>Yes</td>\n",
       "      <td>&gt;30</td>\n",
       "    </tr>\n",
       "    <tr>\n",
       "      <th>5</th>\n",
       "      <td>155688693</td>\n",
       "      <td>&gt;200</td>\n",
       "      <td>-1.375347</td>\n",
       "      <td>Radiology</td>\n",
       "      <td>-1.600039</td>\n",
       "      <td>-0.516407</td>\n",
       "      <td>0.286422</td>\n",
       "      <td>-0.889500</td>\n",
       "      <td>1.606671</td>\n",
       "      <td>-0.715291</td>\n",
       "      <td>-1.002850</td>\n",
       "      <td>No</td>\n",
       "      <td>&gt;30</td>\n",
       "    </tr>\n",
       "    <tr>\n",
       "      <th>6</th>\n",
       "      <td>148640105</td>\n",
       "      <td>[75-100)</td>\n",
       "      <td>1.109692</td>\n",
       "      <td>Psychiatry</td>\n",
       "      <td>0.610847</td>\n",
       "      <td>-1.017091</td>\n",
       "      <td>-0.315044</td>\n",
       "      <td>1.526881</td>\n",
       "      <td>-1.224323</td>\n",
       "      <td>-1.665281</td>\n",
       "      <td>-1.221768</td>\n",
       "      <td>Yes</td>\n",
       "      <td>&lt;30</td>\n",
       "    </tr>\n",
       "    <tr>\n",
       "      <th>7</th>\n",
       "      <td>179391750</td>\n",
       "      <td>[0-25)</td>\n",
       "      <td>0.861188</td>\n",
       "      <td>Psychology</td>\n",
       "      <td>-1.257878</td>\n",
       "      <td>-1.517775</td>\n",
       "      <td>1.661203</td>\n",
       "      <td>0.721421</td>\n",
       "      <td>-0.505341</td>\n",
       "      <td>-1.665281</td>\n",
       "      <td>-1.002850</td>\n",
       "      <td>No</td>\n",
       "      <td>NO</td>\n",
       "    </tr>\n",
       "  </tbody>\n",
       "</table>\n",
       "</div>"
      ],
      "text/plain": [
       "   patient_nbr     weight  time_in_hospital   medical_specialty  \\\n",
       "3    161137462  [125-150)          1.606700  InfectiousDiseases   \n",
       "4    178987224    [50-75)          1.358196             DCPTEAM   \n",
       "5    155688693       >200         -1.375347           Radiology   \n",
       "6    148640105   [75-100)          1.109692          Psychiatry   \n",
       "7    179391750     [0-25)          0.861188          Psychology   \n",
       "\n",
       "   num_lab_procedures  num_procedures  num_medications  number_outpatient  \\\n",
       "3            1.584689       -0.516407         0.887889           0.318691   \n",
       "4            1.242528       -0.015722        -0.873549          -0.245132   \n",
       "5           -1.600039       -0.516407         0.286422          -0.889500   \n",
       "6            0.610847       -1.017091        -0.315044           1.526881   \n",
       "7           -1.257878       -1.517775         1.661203           0.721421   \n",
       "\n",
       "   number_emergency  number_inpatient  number_diagnoses diabetesMed readmitted  \n",
       "3          0.393388          1.501352          0.529578          No        >30  \n",
       "4         -0.055976          1.659684          0.529578         Yes        >30  \n",
       "5          1.606671         -0.715291         -1.002850          No        >30  \n",
       "6         -1.224323         -1.665281         -1.221768         Yes        <30  \n",
       "7         -0.505341         -1.665281         -1.002850          No         NO  "
      ]
     },
     "execution_count": 18,
     "metadata": {},
     "output_type": "execute_result"
    }
   ],
   "source": [
    "# Selecting numerical features for scaling\n",
    "features_to_scale = ['time_in_hospital', 'num_lab_procedures', 'num_procedures',\n",
    "                    'num_medications', 'number_outpatient', 'number_emergency', 'number_inpatient', 'number_diagnoses']\n",
    "\n",
    "# Apply StandardScaler\n",
    "scaler = StandardScaler()\n",
    "scaled_features = scaler.fit_transform(data[features_to_scale])\n",
    "scaled_df = pd.DataFrame(scaled_features, columns=features_to_scale)\n",
    "\n",
    "# Combine scaled features with categorical variables\n",
    "data_scaled = data.copy()\n",
    "data_scaled[features_to_scale] = scaled_df\n",
    "\n",
    "# Display the first few rows of the scaled data\n",
    "data_scaled.head()"
   ]
  },
  {
   "cell_type": "markdown",
   "metadata": {},
   "source": [
    "- We used **StandardScaler** from `sklearn.preprocessing` to normalize the values of selected numerical features.\n",
    "- We specified a set of numerical features, such as `time_in_hospital`and `num_lab_procedures`\n",
    "- The scaled features were combined with the original dataset, replacing the unscaled versions, while categorical variables remain unchanged."
   ]
  },
  {
   "cell_type": "markdown",
   "metadata": {
    "id": "64a85a49"
   },
   "source": [
    "### Step 2: Clustering\n",
    "We will apply K-means clustering to group patients into clusters based on similar characteristics. The ideal number of clusters (k) will be determined using the elbow method."
   ]
  },
  {
   "cell_type": "code",
   "execution_count": 19,
   "metadata": {
    "colab": {
     "base_uri": "https://localhost:8080/",
     "height": 487
    },
    "id": "4032efbb",
    "outputId": "9c5ecdd5-567a-4867-844f-c4de66b68e1d"
   },
   "outputs": [
    {
     "name": "stderr",
     "output_type": "stream",
     "text": [
      "C:\\Users\\Willy\\Downloads\\Anaconda\\envs\\learn-env\\lib\\site-packages\\sklearn\\cluster\\_kmeans.py:1416: FutureWarning: The default value of `n_init` will change from 10 to 'auto' in 1.4. Set the value of `n_init` explicitly to suppress the warning\n",
      "  super()._check_params_vs_input(X, default_n_init=10)\n",
      "C:\\Users\\Willy\\Downloads\\Anaconda\\envs\\learn-env\\lib\\site-packages\\sklearn\\cluster\\_kmeans.py:1416: FutureWarning: The default value of `n_init` will change from 10 to 'auto' in 1.4. Set the value of `n_init` explicitly to suppress the warning\n",
      "  super()._check_params_vs_input(X, default_n_init=10)\n",
      "C:\\Users\\Willy\\Downloads\\Anaconda\\envs\\learn-env\\lib\\site-packages\\sklearn\\cluster\\_kmeans.py:1416: FutureWarning: The default value of `n_init` will change from 10 to 'auto' in 1.4. Set the value of `n_init` explicitly to suppress the warning\n",
      "  super()._check_params_vs_input(X, default_n_init=10)\n",
      "C:\\Users\\Willy\\Downloads\\Anaconda\\envs\\learn-env\\lib\\site-packages\\sklearn\\cluster\\_kmeans.py:1416: FutureWarning: The default value of `n_init` will change from 10 to 'auto' in 1.4. Set the value of `n_init` explicitly to suppress the warning\n",
      "  super()._check_params_vs_input(X, default_n_init=10)\n",
      "C:\\Users\\Willy\\Downloads\\Anaconda\\envs\\learn-env\\lib\\site-packages\\sklearn\\cluster\\_kmeans.py:1416: FutureWarning: The default value of `n_init` will change from 10 to 'auto' in 1.4. Set the value of `n_init` explicitly to suppress the warning\n",
      "  super()._check_params_vs_input(X, default_n_init=10)\n",
      "C:\\Users\\Willy\\Downloads\\Anaconda\\envs\\learn-env\\lib\\site-packages\\sklearn\\cluster\\_kmeans.py:1416: FutureWarning: The default value of `n_init` will change from 10 to 'auto' in 1.4. Set the value of `n_init` explicitly to suppress the warning\n",
      "  super()._check_params_vs_input(X, default_n_init=10)\n",
      "C:\\Users\\Willy\\Downloads\\Anaconda\\envs\\learn-env\\lib\\site-packages\\sklearn\\cluster\\_kmeans.py:1416: FutureWarning: The default value of `n_init` will change from 10 to 'auto' in 1.4. Set the value of `n_init` explicitly to suppress the warning\n",
      "  super()._check_params_vs_input(X, default_n_init=10)\n",
      "C:\\Users\\Willy\\Downloads\\Anaconda\\envs\\learn-env\\lib\\site-packages\\sklearn\\cluster\\_kmeans.py:1416: FutureWarning: The default value of `n_init` will change from 10 to 'auto' in 1.4. Set the value of `n_init` explicitly to suppress the warning\n",
      "  super()._check_params_vs_input(X, default_n_init=10)\n",
      "C:\\Users\\Willy\\Downloads\\Anaconda\\envs\\learn-env\\lib\\site-packages\\sklearn\\cluster\\_kmeans.py:1416: FutureWarning: The default value of `n_init` will change from 10 to 'auto' in 1.4. Set the value of `n_init` explicitly to suppress the warning\n",
      "  super()._check_params_vs_input(X, default_n_init=10)\n",
      "C:\\Users\\Willy\\Downloads\\Anaconda\\envs\\learn-env\\lib\\site-packages\\sklearn\\cluster\\_kmeans.py:1416: FutureWarning: The default value of `n_init` will change from 10 to 'auto' in 1.4. Set the value of `n_init` explicitly to suppress the warning\n",
      "  super()._check_params_vs_input(X, default_n_init=10)\n"
     ]
    },
    {
     "data": {
      "image/png": "[encoded data removed]",
      "text/plain": [
       "<Figure size 576x360 with 1 Axes>"
      ]
     },
     "metadata": {
      "needs_background": "light"
     },
     "output_type": "display_data"
    }
   ],
   "source": [
    "# Determine optimal number of clusters using the elbow method\n",
    "inertia = []\n",
    "k_range = range(1, 11)\n",
    "\n",
    "for k in k_range:\n",
    "    kmeans = KMeans(n_clusters=k, random_state=0)\n",
    "    kmeans.fit(scaled_features)\n",
    "    inertia.append(kmeans.inertia_)\n",
    "\n",
    "# Plot the elbow curve\n",
    "plt.figure(figsize=(8, 5))\n",
    "plt.plot(k_range, inertia, marker='o')\n",
    "plt.xlabel('Number of Clusters (k)')\n",
    "plt.ylabel('Inertia')\n",
    "plt.title('Elbow Method for Optimal k')\n",
    "plt.show()"
   ]
  },
  {
   "cell_type": "markdown",
   "metadata": {
    "id": "ee75d813"
   },
   "source": [
    "Based on the elbow plot, we choose an optimal number of clusters. Let's apply K-means with the chosen number of clusters and assign each patient a cluster label."
   ]
  },
  {
   "cell_type": "code",
   "execution_count": 20,
   "metadata": {
    "colab": {
     "base_uri": "https://localhost:8080/",
     "height": 206
    },
    "id": "e5b25b6c",
    "outputId": "d0e66932-f064-498e-ed5c-399afdd28b56"
   },
   "outputs": [
    {
     "name": "stderr",
     "output_type": "stream",
     "text": [
      "C:\\Users\\Willy\\Downloads\\Anaconda\\envs\\learn-env\\lib\\site-packages\\sklearn\\cluster\\_kmeans.py:1416: FutureWarning: The default value of `n_init` will change from 10 to 'auto' in 1.4. Set the value of `n_init` explicitly to suppress the warning\n",
      "  super()._check_params_vs_input(X, default_n_init=10)\n"
     ]
    },
    {
     "data": {
      "text/html": [
       "<div>\n",
       "<style scoped>\n",
       "    .dataframe tbody tr th:only-of-type {\n",
       "        vertical-align: middle;\n",
       "    }\n",
       "\n",
       "    .dataframe tbody tr th {\n",
       "        vertical-align: top;\n",
       "    }\n",
       "\n",
       "    .dataframe thead th {\n",
       "        text-align: right;\n",
       "    }\n",
       "</style>\n",
       "<table border=\"1\" class=\"dataframe\">\n",
       "  <thead>\n",
       "    <tr style=\"text-align: right;\">\n",
       "      <th></th>\n",
       "      <th>cluster</th>\n",
       "      <th>readmitted</th>\n",
       "    </tr>\n",
       "  </thead>\n",
       "  <tbody>\n",
       "    <tr>\n",
       "      <th>3</th>\n",
       "      <td>2</td>\n",
       "      <td>&gt;30</td>\n",
       "    </tr>\n",
       "    <tr>\n",
       "      <th>4</th>\n",
       "      <td>2</td>\n",
       "      <td>&gt;30</td>\n",
       "    </tr>\n",
       "    <tr>\n",
       "      <th>5</th>\n",
       "      <td>0</td>\n",
       "      <td>&gt;30</td>\n",
       "    </tr>\n",
       "    <tr>\n",
       "      <th>6</th>\n",
       "      <td>1</td>\n",
       "      <td>&lt;30</td>\n",
       "    </tr>\n",
       "    <tr>\n",
       "      <th>7</th>\n",
       "      <td>1</td>\n",
       "      <td>NO</td>\n",
       "    </tr>\n",
       "  </tbody>\n",
       "</table>\n",
       "</div>"
      ],
      "text/plain": [
       "   cluster readmitted\n",
       "3        2        >30\n",
       "4        2        >30\n",
       "5        0        >30\n",
       "6        1        <30\n",
       "7        1         NO"
      ]
     },
     "execution_count": 20,
     "metadata": {},
     "output_type": "execute_result"
    }
   ],
   "source": [
    "# Using an optimal k\n",
    "optimal_k = 4\n",
    "\n",
    "# Apply KMeans with optimal_k\n",
    "kmeans = KMeans(n_clusters=optimal_k, random_state=0)\n",
    "data_scaled['cluster'] = kmeans.fit_predict(scaled_features)\n",
    "\n",
    "# Display the first few rows to verify clustering\n",
    "data_scaled[['cluster', 'readmitted']].head()"
   ]
  },
  {
   "cell_type": "markdown",
   "metadata": {
    "id": "6ae637de"
   },
   "source": [
    "### Step 3: Evaluation\n",
    "We will evaluate the clusters by analyzing the distribution of the target variable (readmitted) across clusters.\n",
    "If certain clusters show higher readmission rates, we can conclude that clustering captures relevant patterns."
   ]
  },
  {
   "cell_type": "code",
   "execution_count": 21,
   "metadata": {
    "colab": {
     "base_uri": "https://localhost:8080/",
     "height": 671
    },
    "id": "45bed92d",
    "outputId": "34bbb133-3136-43b5-e501-1659b0b74174"
   },
   "outputs": [
    {
     "data": {
      "image/png": "[encoded data removed]",
      "text/plain": [
       "<Figure size 576x360 with 1 Axes>"
      ]
     },
     "metadata": {
      "needs_background": "light"
     },
     "output_type": "display_data"
    },
    {
     "data": {
      "text/html": [
       "<div>\n",
       "<style scoped>\n",
       "    .dataframe tbody tr th:only-of-type {\n",
       "        vertical-align: middle;\n",
       "    }\n",
       "\n",
       "    .dataframe tbody tr th {\n",
       "        vertical-align: top;\n",
       "    }\n",
       "\n",
       "    .dataframe thead th {\n",
       "        text-align: right;\n",
       "    }\n",
       "</style>\n",
       "<table border=\"1\" class=\"dataframe\">\n",
       "  <thead>\n",
       "    <tr style=\"text-align: right;\">\n",
       "      <th>readmitted</th>\n",
       "      <th>&lt;30</th>\n",
       "      <th>&gt;30</th>\n",
       "      <th>NO</th>\n",
       "    </tr>\n",
       "    <tr>\n",
       "      <th>cluster</th>\n",
       "      <th></th>\n",
       "      <th></th>\n",
       "      <th></th>\n",
       "    </tr>\n",
       "  </thead>\n",
       "  <tbody>\n",
       "    <tr>\n",
       "      <th>0</th>\n",
       "      <td>0.323905</td>\n",
       "      <td>0.346715</td>\n",
       "      <td>0.329380</td>\n",
       "    </tr>\n",
       "    <tr>\n",
       "      <th>1</th>\n",
       "      <td>0.336757</td>\n",
       "      <td>0.327825</td>\n",
       "      <td>0.335418</td>\n",
       "    </tr>\n",
       "    <tr>\n",
       "      <th>2</th>\n",
       "      <td>0.361184</td>\n",
       "      <td>0.322889</td>\n",
       "      <td>0.315927</td>\n",
       "    </tr>\n",
       "    <tr>\n",
       "      <th>3</th>\n",
       "      <td>0.329567</td>\n",
       "      <td>0.345574</td>\n",
       "      <td>0.324859</td>\n",
       "    </tr>\n",
       "  </tbody>\n",
       "</table>\n",
       "</div>"
      ],
      "text/plain": [
       "readmitted       <30       >30        NO\n",
       "cluster                                 \n",
       "0           0.323905  0.346715  0.329380\n",
       "1           0.336757  0.327825  0.335418\n",
       "2           0.361184  0.322889  0.315927\n",
       "3           0.329567  0.345574  0.324859"
      ]
     },
     "execution_count": 21,
     "metadata": {},
     "output_type": "execute_result"
    }
   ],
   "source": [
    "# Analyze the relationship between clusters and readmission rate\n",
    "cluster_analysis = data_scaled.groupby('cluster')['readmitted'].value_counts(normalize=True).unstack()\n",
    "cluster_analysis.plot(kind='bar', stacked=True, figsize=(8, 5))\n",
    "plt.xlabel('Cluster')\n",
    "plt.ylabel('Proportion of Readmission')\n",
    "plt.title('Readmission Rate by Cluster')\n",
    "plt.legend(title='Readmitted')\n",
    "plt.show()\n",
    "\n",
    "# Display the analysis results\n",
    "cluster_analysis"
   ]
  },
  {
   "cell_type": "markdown",
   "metadata": {},
   "source": [
    "Each bar represents a cluster, with sections indicating the proportion of patients within that cluster who fall into each readmission category.\n",
    "\n",
    "Readmission Categories:\n",
    "1. '<30' : Patients readmitted within 30 days (blue section).\n",
    "2. '>30' : Patients readmitted after 30 days (orange section).\n",
    "3. 'NO' : Patients not readmitted (green section)."
   ]
  },
  {
   "cell_type": "markdown",
   "metadata": {
    "id": "de0b2c21"
   },
   "source": [
    "## 8. Predictive Modeling and Evaluation\n",
    "\n",
    "In this section, we will develop predictive models to identify patients at high risk of readmission. Our goal is to answer the business questions:\n",
    "- Which patient characteristics correlate with a higher readmission risk?\n",
    "- How does the length of hospital stay impact readmission likelihood?\n",
    "- Can we develop an actionable model to predict readmissions?"
   ]
  },
  {
   "cell_type": "markdown",
   "metadata": {
    "id": "99a4680c"
   },
   "source": [
    "### Step 1: Feature Engineering and Selection\n",
    "We'll begin by selecting key features that may influence readmission risk, such as demographics and hospital metrics."
   ]
  },
  {
   "cell_type": "code",
   "execution_count": 22,
   "metadata": {
    "colab": {
     "base_uri": "https://localhost:8080/"
    },
    "id": "e5593fc0",
    "outputId": "e997d02b-2098-4639-8a1a-5533316beda3"
   },
   "outputs": [],
   "source": [
    "# Select relevant features for modeling\n",
    "selected_features = [\n",
    "    'time_in_hospital', 'num_lab_procedures', 'num_procedures', 'num_medications',\n",
    "    'number_outpatient', 'number_emergency', 'number_inpatient', 'number_diagnoses'\n",
    "]"
   ]
  },
  {
   "cell_type": "markdown",
   "metadata": {},
   "source": [
    "1. **Defining the Target Variable**:\n",
    "The target variable (`target`) is set to `'readmitted'`, representing the outcome we aim to predict (whether a patient was readmitted or not).\n",
    "\n",
    "2. **Preparing Feature and Target Datasets**:\n",
    "We create `X` as the feature set by selecting the relevant columns from `data_scaled`.\n",
    "`y` is defined as the target variable, extracted from the `data_scaled` DataFrame.\n",
    "\n",
    "3. **Shape Verification**:\n",
    "We display the shapes of `X` and `y` to confirm the dimensions, ensuring that they align properly for model training."
   ]
  },
  {
   "cell_type": "code",
   "execution_count": 23,
   "metadata": {},
   "outputs": [
    {
     "data": {
      "text/plain": [
       "((8853, 8), (8853,))"
      ]
     },
     "execution_count": 23,
     "metadata": {},
     "output_type": "execute_result"
    }
   ],
   "source": [
    "# Target variable\n",
    "target = 'readmitted'\n",
    "\n",
    "# Prepare feature and target datasets\n",
    "X = data_scaled[selected_features]\n",
    "y = data_scaled[target]\n",
    "\n",
    "# Display the shapes of X and y\n",
    "X.shape, y.shape"
   ]
  },
  {
   "cell_type": "code",
   "execution_count": null,
   "metadata": {},
   "outputs": [],
   "source": [
    "# Define X and y based on the scaled data\n",
    "X_encoded = data_scaled[selected_features]\n",
    "X_train, X_test, y_train, y_test = train_test_split(X_encoded, y, test_size=0.2, random_state=42)"
   ]
  },
  {
   "cell_type": "markdown",
   "metadata": {
    "id": "5f3656bf"
   },
   "source": [
    "### Step 2: Data Splitting\n",
    "We'll split the dataset into training and testing sets to evaluate model performance on unseen data."
   ]
  },
  {
   "cell_type": "code",
   "execution_count": 25,
   "metadata": {
    "colab": {
     "base_uri": "https://localhost:8080/"
    },
    "id": "417236c8",
    "outputId": "09780981-e833-415e-bb1a-724d2ec80bd6"
   },
   "outputs": [
    {
     "data": {
      "text/plain": [
       "((7082, 8), (1771, 8), (7082,), (1771,))"
      ]
     },
     "execution_count": 25,
     "metadata": {},
     "output_type": "execute_result"
    }
   ],
   "source": [
    "# Split the data into training and testing sets (80-20 split)\n",
    "X_train, X_test, y_train, y_test = train_test_split(X, y, test_size=0.2, random_state=0)\n",
    "\n",
    "# Display the shapes of the training and testing sets\n",
    "X_train.shape, X_test.shape, y_train.shape, y_test.shape"
   ]
  },
  {
   "cell_type": "markdown",
   "metadata": {
    "id": "e8dd47d7"
   },
   "source": [
    "### Step 3: Model Training\n",
    "\n",
    "In this step, we train three different models—**Logistic Regression**, **Random Forest**, and **Neural Network**—to predict the likelihood of patient readmission. These models will help identify key patterns in the patient data that correlate with readmission."
   ]
  },
  {
   "cell_type": "code",
   "execution_count": 26,
   "metadata": {
    "colab": {
     "base_uri": "https://localhost:8080/"
    },
    "id": "IxFwUmsRour5",
    "outputId": "fd9ac92e-766e-445b-bef5-0b039f3726d3"
   },
   "outputs": [
    {
     "name": "stdout",
     "output_type": "stream",
     "text": [
      "Index(['patient_nbr', 'weight', 'time_in_hospital', 'medical_specialty',\n",
      "       'num_lab_procedures', 'num_procedures', 'num_medications',\n",
      "       'number_outpatient', 'number_emergency', 'number_inpatient',\n",
      "       'number_diagnoses', 'diabetesMed', 'readmitted'],\n",
      "      dtype='object')\n"
     ]
    }
   ],
   "source": [
    "print(data.columns)"
   ]
  },
  {
   "cell_type": "code",
   "execution_count": null,
   "metadata": {
    "id": "oQUb2NsipG-X"
   },
   "outputs": [],
   "source": [
    "# Define features (X) and target (y)\n",
    "X = data.drop(columns=['readmitted', 'patient_nbr'])\n",
    "y = data['readmitted']"
   ]
  },
  {
   "cell_type": "markdown",
   "metadata": {},
   "source": [
    "In this step, we transform categorical variables into a format suitable for machine learning models by using **One-Hot Encoding**.\n",
    "\n",
    "1. **Initialize OneHotEncoder**:\n",
    "We initialize `OneHotEncoder` with `sparse=False` to output dense arrays and `handle_unknown='ignore'` to ignore any previously unseen categories in the test data.\n",
    "\n",
    "2. **Encoding Categorical Variables**:\n",
    "We apply the encoder to the categorical columns of `X` (identified by `X.select_dtypes(include=['object'])`). This process converts each category in a column into a separate binary (0 or 1) column, known as one-hot encoding.\n",
    "The result is a new DataFrame, `X_encoded`, containing binary columns for each category, where `1` indicates the presence of a category, and `0` indicates its absence.\n",
    "\n",
    "3. **Setting Column Names**:\n",
    "We set the column names of `X_encoded` using `encoder.get_feature_names` to retain the original categorical column names, allowing for easier interpretation.\n",
    "\n",
    "4. **Combining Encoded and Numeric Features**:\n",
    "We concatenate the encoded categorical features (`X_encoded`) with the original numerical features (selected with `X.select_dtypes(exclude=['object'])`). This results in a complete feature set that includes both encoded categorical and numeric features, ready for modeling."
   ]
  },
  {
   "cell_type": "code",
   "execution_count": 28,
   "metadata": {
    "id": "lE3fDIK1pj-w"
   },
   "outputs": [],
   "source": [
    "# Filter X_encoded, X_train, and X_test to include only these columns\n",
    "X_encoded = X_encoded[selected_features]\n",
    "X_train = X_train[selected_features]\n",
    "X_test = X_test[selected_features]"
   ]
  },
  {
   "cell_type": "markdown",
   "metadata": {},
   "source": [
    "1. **Handling Missing Values**:\n",
    "First, we check for any missing values in the feature set `X_encoded` \n",
    "If found, we fill them with the column mean using `X_encoded.fillna(X_encoded.mean(), inplace=True)`. This is to ensure that the model can be trained on a complete dataset without needing to drop rows or columns.\n",
    "\n",
    "2. **Train-Test Split**:\n",
    "We then split the data into training and testing sets with an 80-20 split ratio, using `train_test_split`.\n",
    "`X_train` and `X_test` contain the features for training and testing, while `y_train` and `y_test` contain the target variable.\n",
    "\n",
    "3. **Logistic Regression Model Training**:\n",
    "We initialize a **Logistic Regression** model with a maximum iteration limit of 1000 to ensure convergence and set a random state for reproducibility.\n",
    "The model is then trained on the training data using `logreg.fit(X_train, y_train)`, learning the relationship between patient characteristics and readmission risk.\n"
   ]
  },
  {
   "cell_type": "code",
   "execution_count": 29,
   "metadata": {
    "colab": {
     "base_uri": "https://localhost:8080/",
     "height": 500
    },
    "id": "6k643rFlp7OA",
    "outputId": "09a7c479-0632-4008-959d-1c631aa2c5c0"
   },
   "outputs": [
    {
     "name": "stdout",
     "output_type": "stream",
     "text": [
      "Number of missing values per column in X_encoded:\n",
      " time_in_hospital      1017\n",
      "num_lab_procedures    1017\n",
      "num_procedures        1017\n",
      "num_medications       1017\n",
      "number_outpatient     1017\n",
      "number_emergency      1017\n",
      "number_inpatient      1017\n",
      "number_diagnoses      1017\n",
      "dtype: int64\n",
      "Number of missing values after filling:\n",
      " 0\n"
     ]
    },
    {
     "data": {
      "text/html": [
       "<style>#sk-container-id-1 {color: black;}#sk-container-id-1 pre{padding: 0;}#sk-container-id-1 div.sk-toggleable {background-color: white;}#sk-container-id-1 label.sk-toggleable__label {cursor: pointer;display: block;width: 100%;margin-bottom: 0;padding: 0.3em;box-sizing: border-box;text-align: center;}#sk-container-id-1 label.sk-toggleable__label-arrow:before {content: \"▸\";float: left;margin-right: 0.25em;color: #696969;}#sk-container-id-1 label.sk-toggleable__label-arrow:hover:before {color: black;}#sk-container-id-1 div.sk-estimator:hover label.sk-toggleable__label-arrow:before {color: black;}#sk-container-id-1 div.sk-toggleable__content {max-height: 0;max-width: 0;overflow: hidden;text-align: left;background-color: #f0f8ff;}#sk-container-id-1 div.sk-toggleable__content pre {margin: 0.2em;color: black;border-radius: 0.25em;background-color: #f0f8ff;}#sk-container-id-1 input.sk-toggleable__control:checked~div.sk-toggleable__content {max-height: 200px;max-width: 100%;overflow: auto;}#sk-container-id-1 input.sk-toggleable__control:checked~label.sk-toggleable__label-arrow:before {content: \"▾\";}#sk-container-id-1 div.sk-estimator input.sk-toggleable__control:checked~label.sk-toggleable__label {background-color: #d4ebff;}#sk-container-id-1 div.sk-label input.sk-toggleable__control:checked~label.sk-toggleable__label {background-color: #d4ebff;}#sk-container-id-1 input.sk-hidden--visually {border: 0;clip: rect(1px 1px 1px 1px);clip: rect(1px, 1px, 1px, 1px);height: 1px;margin: -1px;overflow: hidden;padding: 0;position: absolute;width: 1px;}#sk-container-id-1 div.sk-estimator {font-family: monospace;background-color: #f0f8ff;border: 1px dotted black;border-radius: 0.25em;box-sizing: border-box;margin-bottom: 0.5em;}#sk-container-id-1 div.sk-estimator:hover {background-color: #d4ebff;}#sk-container-id-1 div.sk-parallel-item::after {content: \"\";width: 100%;border-bottom: 1px solid gray;flex-grow: 1;}#sk-container-id-1 div.sk-label:hover label.sk-toggleable__label {background-color: #d4ebff;}#sk-container-id-1 div.sk-serial::before {content: \"\";position: absolute;border-left: 1px solid gray;box-sizing: border-box;top: 0;bottom: 0;left: 50%;z-index: 0;}#sk-container-id-1 div.sk-serial {display: flex;flex-direction: column;align-items: center;background-color: white;padding-right: 0.2em;padding-left: 0.2em;position: relative;}#sk-container-id-1 div.sk-item {position: relative;z-index: 1;}#sk-container-id-1 div.sk-parallel {display: flex;align-items: stretch;justify-content: center;background-color: white;position: relative;}#sk-container-id-1 div.sk-item::before, #sk-container-id-1 div.sk-parallel-item::before {content: \"\";position: absolute;border-left: 1px solid gray;box-sizing: border-box;top: 0;bottom: 0;left: 50%;z-index: -1;}#sk-container-id-1 div.sk-parallel-item {display: flex;flex-direction: column;z-index: 1;position: relative;background-color: white;}#sk-container-id-1 div.sk-parallel-item:first-child::after {align-self: flex-end;width: 50%;}#sk-container-id-1 div.sk-parallel-item:last-child::after {align-self: flex-start;width: 50%;}#sk-container-id-1 div.sk-parallel-item:only-child::after {width: 0;}#sk-container-id-1 div.sk-dashed-wrapped {border: 1px dashed gray;margin: 0 0.4em 0.5em 0.4em;box-sizing: border-box;padding-bottom: 0.4em;background-color: white;}#sk-container-id-1 div.sk-label label {font-family: monospace;font-weight: bold;display: inline-block;line-height: 1.2em;}#sk-container-id-1 div.sk-label-container {text-align: center;}#sk-container-id-1 div.sk-container {/* jupyter's `normalize.less` sets `[hidden] { display: none; }` but bootstrap.min.css set `[hidden] { display: none !important; }` so we also need the `!important` here to be able to override the default hidden behavior on the sphinx rendered scikit-learn.org. See: https://github.com/scikit-learn/scikit-learn/issues/21755 */display: inline-block !important;position: relative;}#sk-container-id-1 div.sk-text-repr-fallback {display: none;}</style><div id=\"sk-container-id-1\" class=\"sk-top-container\"><div class=\"sk-text-repr-fallback\"><pre>LogisticRegression(max_iter=1000, random_state=0)</pre><b>In a Jupyter environment, please rerun this cell to show the HTML representation or trust the notebook. <br />On GitHub, the HTML representation is unable to render, please try loading this page with nbviewer.org.</b></div><div class=\"sk-container\" hidden><div class=\"sk-item\"><div class=\"sk-estimator sk-toggleable\"><input class=\"sk-toggleable__control sk-hidden--visually\" id=\"sk-estimator-id-1\" type=\"checkbox\" checked><label for=\"sk-estimator-id-1\" class=\"sk-toggleable__label sk-toggleable__label-arrow\">LogisticRegression</label><div class=\"sk-toggleable__content\"><pre>LogisticRegression(max_iter=1000, random_state=0)</pre></div></div></div></div></div>"
      ],
      "text/plain": [
       "LogisticRegression(max_iter=1000, random_state=0)"
      ]
     },
     "execution_count": 29,
     "metadata": {},
     "output_type": "execute_result"
    }
   ],
   "source": [
    "# Check for NaN values and fill them\n",
    "print(\"Number of missing values per column in X_encoded:\\n\", X_encoded.isnull().sum())\n",
    "X_encoded.fillna(X_encoded.mean(), inplace=True)\n",
    "print(\"Number of missing values after filling:\\n\", X_encoded.isnull().sum().sum())\n",
    "\n",
    "# Split the data for training and testing\n",
    "X_train, X_test, y_train, y_test = train_test_split(X_encoded, y, test_size=0.2, random_state=0)\n",
    "\n",
    "# Logistic Regression Model\n",
    "logreg = LogisticRegression(max_iter=1000, random_state=0)\n",
    "logreg.fit(X_train, y_train)"
   ]
  },
  {
   "cell_type": "markdown",
   "metadata": {},
   "source": [
    "1. **Predictions**:\n",
    "**Class Predictions**: We predict the class labels for the test set using `logreg.predict(X_test)`. \n",
    "The resulting `y_pred_logreg` contains the predicted labels, which we compare with the actual labels (`y_test`) to measure accuracy.\n",
    "**Probability Predictions**: We also predict the probability of each class for each observation in the test set using `logreg.predict_proba(X_test)`, which returns the likelihood of each possible outcome. This is useful for calculating the ROC-AUC score.\n",
    "\n",
    "2. **Model Evaluation**:\n",
    "**Accuracy**: Calculated using `accuracy_score`, accuracy represents the proportion of correct predictions out of all predictions made.\n",
    "**ROC-AUC Score**: The **Receiver Operating Characteristic - Area Under Curve** (ROC-AUC) score measures the model's ability to distinguish between classes. Here, we use the One-vs-Rest (OvR) approach (`multi_class='ovr'`) since there are multiple classes (e.g., `<30`, `>30`, `NO`). A higher ROC-AUC score indicates better model performance in terms of classification accuracy.\n",
    "\n",
    "3. **Scores**:\n",
    "The accuracy and ROC-AUC scores show how well the Logistic Regression model performed on the test data."
   ]
  },
  {
   "cell_type": "code",
   "execution_count": 30,
   "metadata": {
    "colab": {
     "base_uri": "https://localhost:8080/"
    },
    "id": "DEcLUjvW2Pn6",
    "outputId": "848f3f2a-c20d-4ac2-9671-8515ee3ee2cb"
   },
   "outputs": [
    {
     "name": "stdout",
     "output_type": "stream",
     "text": [
      "Logistic Regression Accuracy: 0.3246753246753247\n",
      "Logistic Regression ROC-AUC: 0.49551845184447746\n"
     ]
    }
   ],
   "source": [
    "# Predict and evaluate Logistic Regression\n",
    "y_pred_logreg = logreg.predict(X_test)\n",
    "y_pred_proba_logreg = logreg.predict_proba(X_test)\n",
    "accuracy_logreg = accuracy_score(y_test, y_pred_logreg)\n",
    "roc_auc_logreg = roc_auc_score(y_test, y_pred_proba_logreg, multi_class='ovr')\n",
    "\n",
    "print('Logistic Regression Accuracy:', accuracy_logreg)\n",
    "print('Logistic Regression ROC-AUC:', roc_auc_logreg)"
   ]
  },
  {
   "cell_type": "markdown",
   "metadata": {},
   "source": [
    "1. **Model Instantiation and Training**:\n",
    "A **Random Forest Classifier** is instantiated with a specified `random_state` for reproducibility.\n",
    "We then fit the model to the training data using `rf.fit(X_train, y_train)`, where the model learns relationships between patient characteristics and the likelihood of readmission.\n",
    "\n",
    "2. **Predictions**:\n",
    "**Class Predictions**: We use `rf.predict(X_test)` to generate predicted class labels for the test data, stored in `y_pred_rf`.\n",
    "**Probability Predictions**: We also obtain predicted probabilities for each class using `rf.predict_proba(X_test)`, which gives the probability of each possible outcome. These probabilities are essential for calculating the ROC-AUC score.\n",
    "\n",
    "3. **Model Evaluation**:\n",
    "**Accuracy**: Calculated with `accuracy_score`, accuracy reflects the proportion of correct predictions out of all predictions made.\n",
    "**ROC-AUC Score**: The **ROC-AUC** score assesses the model's ability to distinguish between classes. We use the One-vs-Rest (OvR) approach (`multi_class='ovr'`) for multi-class classification. A higher ROC-AUC score indicates that the model is effective in classifying patients' readmission risk.\n",
    "\n",
    "4. **Results**:\n",
    "The accuracy and ROC-AUC scores provide a quick evaluation of the model's performance on the test data."
   ]
  },
  {
   "cell_type": "code",
   "execution_count": 31,
   "metadata": {
    "colab": {
     "base_uri": "https://localhost:8080/"
    },
    "id": "YAPrHxRhrNjy",
    "outputId": "5a1c9fdd-db6b-4839-8455-8ce724707520"
   },
   "outputs": [
    {
     "name": "stdout",
     "output_type": "stream",
     "text": [
      "Random Forest Accuracy: 0.32523997741389044\n",
      "Random Forest ROC-AUC: 0.493501952828966\n"
     ]
    }
   ],
   "source": [
    "# Instantiate and train the Random Forest model\n",
    "rf = RandomForestClassifier(random_state=42)\n",
    "rf.fit(X_train, y_train)\n",
    "\n",
    "# Predictions and probabilities for evaluation\n",
    "y_pred_rf = rf.predict(X_test)\n",
    "y_pred_proba_rf = rf.predict_proba(X_test)\n",
    "\n",
    "# Accuracy and ROC-AUC calculations\n",
    "accuracy_rf = accuracy_score(y_test, y_pred_rf)\n",
    "roc_auc_rf = roc_auc_score(y_test, y_pred_proba_rf, multi_class='ovr')\n",
    "\n",
    "print('Random Forest Accuracy:', accuracy_rf)\n",
    "print('Random Forest ROC-AUC:', roc_auc_rf)"
   ]
  },
  {
   "cell_type": "markdown",
   "metadata": {},
   "source": [
    "This code trains a **Neural Network** model to predict patient readmission and evaluates its performance on the test data.\n",
    "\n",
    "1. **Model Initialization and Training**:\n",
    "We initialize a **Multi-Layer Perceptron (MLP)** classifier with two hidden layers, each containing 50 neurons, and set a maximum iteration limit of 300 to ensure convergence.\n",
    "The model is trained on the training data using `nn.fit(X_train, y_train)`, allowing it to learn complex patterns and relationships between features and readmission likelihood.\n",
    "\n",
    "2. **Predictions**:\n",
    "**Class Predictions**: Using `nn.predict(X_test)`, we generate predicted class labels for the test data, stored in `y_pred_nn`.\n",
    "**Probability Predictions**: We also obtain predicted probabilities for each class using `nn.predict_proba(X_test)`, which indicates the likelihood of each possible outcome for each test instance. These probabilities are useful for calculating the ROC-AUC score.\n",
    "\n",
    "3. **Model Evaluation**:\n",
    "**ROC-AUC Score**: The **ROC-AUC** score is calculated to assess the model’s ability to differentiate between classes. Using the One-vs-Rest (OvR) approach (`multi_class='ovr'`) for multi-class classification, a higher ROC-AUC score suggests a better model performance in distinguishing between readmission classes.\n",
    "\n",
    "4. **Results**:\n",
    "The accuracy and ROC-AUC scores are printed, providing a quick overview of the model's performance on the test data.\n"
   ]
  },
  {
   "cell_type": "code",
   "execution_count": 32,
   "metadata": {
    "colab": {
     "base_uri": "https://localhost:8080/"
    },
    "id": "f2b73337",
    "outputId": "9ffc9633-0aff-4ef3-dfa4-e3a7a4e2b7d1"
   },
   "outputs": [
    {
     "name": "stdout",
     "output_type": "stream",
     "text": [
      "Neural Network Accuracy: 0.33766233766233766\n",
      "Neural Network ROC-AUC: 0.4966275252210371\n"
     ]
    },
    {
     "name": "stderr",
     "output_type": "stream",
     "text": [
      "C:\\Users\\Willy\\Downloads\\Anaconda\\envs\\learn-env\\lib\\site-packages\\sklearn\\neural_network\\_multilayer_perceptron.py:691: ConvergenceWarning: Stochastic Optimizer: Maximum iterations (300) reached and the optimization hasn't converged yet.\n",
      "  warnings.warn(\n"
     ]
    }
   ],
   "source": [
    "# Initialize and train the neural network model\n",
    "nn = MLPClassifier(hidden_layer_sizes=(50, 50), max_iter=300, random_state=0)\n",
    "nn.fit(X_train, y_train)\n",
    "\n",
    "# Predict on test data\n",
    "y_pred_nn = nn.predict(X_test)\n",
    "y_pred_proba_nn = nn.predict_proba(X_test)\n",
    "\n",
    "# Calculate and display accuracy and ROC-AUC\n",
    "accuracy_nn = accuracy_score(y_test, y_pred_nn)\n",
    "roc_auc_nn = roc_auc_score(y_test, y_pred_proba_nn, multi_class='ovr')\n",
    "\n",
    "print('Neural Network Accuracy:', accuracy_nn)\n",
    "print('Neural Network ROC-AUC:', roc_auc_nn)"
   ]
  },
  {
   "cell_type": "markdown",
   "metadata": {
    "id": "c00b65a7"
   },
   "source": [
    "### Step 4: Evaluation Summary\n",
    "We have trained three models to predict patient readmission: Logistic Regression, Random Forest, and a Neural Network. The following metrics summarize their performance:\n",
    "\n",
    "- **Accuracy**: Measures the proportion of correct predictions.\n",
    "- **ROC-AUC**: Indicates the model's ability to distinguish between classes (higher is better).\n",
    "\n",
    "Let's review the model performance and discuss how each model performs in terms of accuracy and readmission prediction."
   ]
  },
  {
   "cell_type": "code",
   "execution_count": 33,
   "metadata": {
    "colab": {
     "base_uri": "https://localhost:8080/",
     "height": 143
    },
    "id": "7f32c057",
    "outputId": "d68411d1-0fe1-4122-a234-862557405f4b"
   },
   "outputs": [
    {
     "data": {
      "text/html": [
       "<div>\n",
       "<style scoped>\n",
       "    .dataframe tbody tr th:only-of-type {\n",
       "        vertical-align: middle;\n",
       "    }\n",
       "\n",
       "    .dataframe tbody tr th {\n",
       "        vertical-align: top;\n",
       "    }\n",
       "\n",
       "    .dataframe thead th {\n",
       "        text-align: right;\n",
       "    }\n",
       "</style>\n",
       "<table border=\"1\" class=\"dataframe\">\n",
       "  <thead>\n",
       "    <tr style=\"text-align: right;\">\n",
       "      <th></th>\n",
       "      <th>Model</th>\n",
       "      <th>Accuracy</th>\n",
       "      <th>ROC-AUC</th>\n",
       "    </tr>\n",
       "  </thead>\n",
       "  <tbody>\n",
       "    <tr>\n",
       "      <th>0</th>\n",
       "      <td>Logistic Regression</td>\n",
       "      <td>0.324675</td>\n",
       "      <td>0.495518</td>\n",
       "    </tr>\n",
       "    <tr>\n",
       "      <th>1</th>\n",
       "      <td>Random Forest</td>\n",
       "      <td>0.325240</td>\n",
       "      <td>0.493502</td>\n",
       "    </tr>\n",
       "    <tr>\n",
       "      <th>2</th>\n",
       "      <td>Neural Network</td>\n",
       "      <td>0.337662</td>\n",
       "      <td>0.496628</td>\n",
       "    </tr>\n",
       "  </tbody>\n",
       "</table>\n",
       "</div>"
      ],
      "text/plain": [
       "                 Model  Accuracy   ROC-AUC\n",
       "0  Logistic Regression  0.324675  0.495518\n",
       "1        Random Forest  0.325240  0.493502\n",
       "2       Neural Network  0.337662  0.496628"
      ]
     },
     "execution_count": 33,
     "metadata": {},
     "output_type": "execute_result"
    }
   ],
   "source": [
    "# Summarize results in a dictionary for comparison\n",
    "results = {\n",
    "    'Model': ['Logistic Regression', 'Random Forest', 'Neural Network'],\n",
    "    'Accuracy': [accuracy_logreg, accuracy_rf, accuracy_nn],\n",
    "    'ROC-AUC': [roc_auc_logreg, roc_auc_rf, roc_auc_nn]\n",
    "}\n",
    "\n",
    "# Convert results to DataFrame for display\n",
    "results_df = pd.DataFrame(results)\n",
    "results_df"
   ]
  },
  {
   "cell_type": "markdown",
   "metadata": {
    "id": "68c2926d"
   },
   "source": [
    "### Business Questions Analysis\n",
    "\n",
    "- **Patient Characteristics Correlated with Readmission Risk**: By analyzing feature importances from the Random Forest model, we can identify characteristics strongly associated with readmission.\n",
    "\n",
    "- **Length of Hospital Stay and Readmission Likelihood**: The feature 'time_in_hospital' is directly used in the model, allowing us to assess its importance in predicting readmission.\n",
    "\n",
    "- **Predictive Model for Readmissions**: Based on the model's accuracy and ROC-AUC, we can recommend an actionable model for identifying high-risk patients and guide healthcare interventions."
   ]
  },
  {
   "cell_type": "markdown",
   "metadata": {},
   "source": [
    "## 9. Conclusion\n",
    "The analysis and modeling demonstrated that our predictive models could identify a 33% likelihood of patient readmission, as evidenced by the accuracy scores of 0.33 across Logistic Regression, Random Forest, and Neural Network models. This result suggests that roughly one in three patients in the dataset has a potential risk of readmission, highlighting areas for targeted healthcare interventions to reduce hospital readmission rates."
   ]
  },
  {
   "cell_type": "code",
   "execution_count": 34,
   "metadata": {},
   "outputs": [],
   "source": [
    "import pickle\n",
    "# Assuming 'model' is your trained model\n",
    "with open('model.pkl', 'wb') as file:\n",
    "    pickle.dump(rf, file)"
   ]
  },
  {
   "cell_type": "code",
   "execution_count": null,
   "metadata": {},
   "outputs": [],
   "source": []
  }
 ],
 "metadata": {
  "colab": {
   "provenance": []
  },
  "kernelspec": {
   "display_name": "Python 3",
   "language": "python",
   "name": "python3"
  },
  "language_info": {
   "codemirror_mode": {
    "name": "ipython",
    "version": 3
   },
   "file_extension": ".py",
   "mimetype": "text/x-python",
   "name": "python",
   "nbconvert_exporter": "python",
   "pygments_lexer": "ipython3",
   "version": "3.8.19"
  }
 },
 "nbformat": 4,
 "nbformat_minor": 1
}
